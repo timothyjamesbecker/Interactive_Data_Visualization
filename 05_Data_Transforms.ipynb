{
 "cells": [
  {
   "cell_type": "markdown",
   "id": "8e215f52-8568-4491-9d55-7077bb2f7abe",
   "metadata": {},
   "source": [
    "# Interactive Data Visualization\n",
    "##### (C) 2023-2025 Timothy James Becker: [revision 1.0](),  [GPLv3 license](https://www.gnu.org/licenses/gpl-3.0.html) "
   ]
  },
  {
   "cell_type": "markdown",
   "id": "1fdd690c-1c52-49fe-94ee-4fc3419c56f2",
   "metadata": {},
   "source": [
    "\n",
    "## <u>Data Transforms</u>"
   ]
  },
  {
   "cell_type": "markdown",
   "id": "8beaabe3-ca08-4ef3-8bbc-80575cba24e5",
   "metadata": {},
   "source": [
    "#### <u>Data Type/Domain/Range</u>\n",
    "\n",
    "There are many types of data in a programming language like Java or Python, but for the purposes of analysis and visualization, we group them based on how they behave. More specifcally let us look more closely at our data types one by one and also explore the domain and range of that type which will a nessesary part of mapping data into the pixel space. \n"
   ]
  },
  {
   "cell_type": "markdown",
   "id": "637564ea-9e4d-46de-9f0f-2a0931d2fcd5",
   "metadata": {},
   "source": [
    "When we look at any column data it will have a type like integer counts shown below for the $X_2$ column.  This will naturally have a domain that corresponds. For example if the column represents counts of something the domain will be [0,inf).  The range on the other hand is simply the values that we want to map to the pixel or color space on our screen.  "
   ]
  },
  {
   "cell_type": "markdown",
   "id": "9690af09-b8e9-4219-8b58-02b2655a7da4",
   "metadata": {},
   "source": [
    "<img src=\"figures/visualization_domain_range.png\" alt=\"visualization_domain_range\" width=\"700px\">"
   ]
  },
  {
   "cell_type": "markdown",
   "id": "8046a5af-62e7-4c7b-8fb1-5e5517621f6c",
   "metadata": {},
   "source": [
    "If we don't have outside knowledge of the natural domain of each column, we can use the observations and take the minimal and maximal values as good end points which here will be 1 to 10 and map to the width portion of the pixel space which in our example starts a 0 and goes to 600 (for svg)."
   ]
  },
  {
   "cell_type": "markdown",
   "id": "56dcddb9-088f-492c-8d96-0b97613db732",
   "metadata": {},
   "source": [
    "Our mapping therefore is a function from domain to range or: $[1,10]=>[0,600]$"
   ]
  },
  {
   "cell_type": "markdown",
   "id": "26a316ec-caa6-4e5e-811b-b3110e467b5d",
   "metadata": {},
   "source": [
    "When values are numbers such as integer or floating point value or counts (positive values) we can parse them using the + in the d3 data loader shown in [04_Loading_Data.ipynb]. When we have items like names or strings we will call them categorical. Examples are the name field in the cars.csv example file.  On the other hand, when we have strings but we have some understanding of a natural ordering in that domain such as: \"hot\", \"warm\", \"cold\" we call them ordinal. Since they have an ordering. "
   ]
  },
  {
   "cell_type": "markdown",
   "id": "dbe27b9d-acd0-429a-a7e4-997fddb65201",
   "metadata": {},
   "source": [
    "#### <u>Scaling and Transforms</u>\n",
    "Since our mapping involves endpoints, it may seem that linear functions are the only ones avaible but this is not the case since a linear function can easily be manipulated (transformed). First we will start by formulating a linear transformation from our domain of $[1,10]$ to the range $[0,600]$ keeping in mind that 1 would need to become 0 and 10 would have to become 600."
   ]
  },
  {
   "cell_type": "markdown",
   "id": "c0ca1228-2bc7-4513-bfad-d936020f9d15",
   "metadata": {},
   "source": [
    "If we take our domain and map it to 0 to 1 first we can then offer its range scale and offset. To get any observed domain to become 0 to 1 we can simply use the maximal and minimal values for the column $X_i$\n",
    "\n",
    "$\\forall x \\in X_i : f(x) = \\frac{\\left(x-min\\{X_i\\}\\right)}{\\left(max\\{X_i\\}-min\\{X_i\\}\\right)}$\n",
    "\n",
    "Lets test to see if this works for value 1 which should become 0:\n",
    "\n",
    "$f(1)=\\frac{\\left(X_j-min\\{X_i\\}\\right)}{\\left(max\\{X_i\\}-min\\{X_i\\}\\right)} = \\frac{\\left(1-1\\right)}{\\left(10-1\\right)}=\\frac{0}{9}=0$\n",
    "\n",
    "And finally we will test the other endpoint which is 10:\n",
    "\n",
    "$f(10)=\\frac{\\left(10-1\\right)}{\\left(10-1\\right)}=\\frac{9}{9}=1$"
   ]
  },
  {
   "cell_type": "markdown",
   "id": "6a8cc172-623b-4991-8083-c8ccbff6382e",
   "metadata": {},
   "source": [
    "Now this 0 to 1 function can use the destination scale where $p_{min}$ is 0 and $p_{max}$ is 600 in our example:\n",
    "\n",
    "$f(t) = f(x)*\\left(p_{max}-p_{min}\\right)+p_{min}$\n",
    "\n",
    "And we will check this again for our value 1 should now become 0 and 10 should become 600:\n",
    "\n",
    "$f(1) = \\left(\\frac{1-1}{10-1}\\right)600+0 = (0)600=0$\n",
    "\n",
    "$f(10) = \\left(\\frac{10-1}{10-1}\\right)600+0 = (1)600=600$\n",
    "\n",
    "And if we check a middle value like 5.5 for a linear function, we would also expect somewhere near 300:\n",
    "\n",
    "$f(5.5) = \\left(\\frac{5.5-1}{10-1}\\right)600+0 = (0.5)600=300$\n"
   ]
  },
  {
   "cell_type": "markdown",
   "id": "6930b43c-f958-4806-bc94-1230bd4c9af5",
   "metadata": {},
   "source": [
    "We can write a javascript function to see if this works:"
   ]
  },
  {
   "cell_type": "code",
   "execution_count": 1,
   "id": "4fa40f6a-6da9-4214-b773-e876c22dcc51",
   "metadata": {},
   "outputs": [
    {
     "data": {
      "application/javascript": [
       "function scale(xs,w){\n",
       "    let _min = xs[0];\n",
       "    let _max = xs[0];\n",
       "    let _scale = 1;\n",
       "    for(let x of xs){\n",
       "        if(x<=_min){ _min = x; }\n",
       "        if(x>=_max){ _max = x; }\n",
       "    }\n",
       "    if(_max-_min>0){ _scale = _max-_min; }\n",
       "    for(let i=0; i<xs.length; i++){\n",
       "        xs[i] = ((xs[i]-_min)/_scale)*w;\n",
       "    }\n",
       "    return xs;\n",
       "}\n",
       "\n",
       "let width = 600;\n",
       "let x_i   = [1,2,1,3,4,2,3,2,1,2,2,6,5,8,9,10,1,2,3,2,1,2,1,2,1,2,1];\n",
       "alert(scale(x_i,width));\n"
      ],
      "text/plain": [
       "<IPython.core.display.Javascript object>"
      ]
     },
     "metadata": {},
     "output_type": "display_data"
    }
   ],
   "source": [
    "%%javascript\n",
    "function scale(xs,w){\n",
    "    let _min = xs[0];\n",
    "    let _max = xs[0];\n",
    "    let _scale = 1;\n",
    "    for(let x of xs){\n",
    "        if(x<=_min){ _min = x; }\n",
    "        if(x>=_max){ _max = x; }\n",
    "    }\n",
    "    if(_max-_min>0){ _scale = _max-_min; }\n",
    "    for(let i=0; i<xs.length; i++){\n",
    "        xs[i] = ((xs[i]-_min)/_scale)*w;\n",
    "    }\n",
    "    return xs;\n",
    "}\n",
    "\n",
    "let width = 600;\n",
    "let x_i   = [1,2,1,3,4,2,3,2,1,2,2,6,5,8,9,10,1,2,3,2,1,2,1,2,1,2,1];\n",
    "alert(scale(x_i,width));"
   ]
  },
  {
   "cell_type": "markdown",
   "id": "e91ba7ec-8a34-4cd5-a77b-27761f5dad14",
   "metadata": {},
   "source": [
    "#### <u>D3 Builtin Scales</u>\n",
    "Thanks fully d3 includes this same [linear scaling function](https://d3js.org/d3-scale/linear) along with many [more](https://d3js.org/d3-scale) which we can expriment with here in this notebook before trying to visualize it:"
   ]
  },
  {
   "cell_type": "code",
   "execution_count": 3,
   "id": "94eb4178-6122-445c-a740-06555e46631a",
   "metadata": {},
   "outputs": [
    {
     "data": {
      "text/html": [
       "<div id=\"dd1\"></div>\n",
       "<script type=\"module\"> \n",
       "    import * as d3 from \"https://cdn.skypack.dev/d3@7\"; \n",
       "    let mpg_scale = d3.scaleLinear([1,10],[0,600]);\n",
       "    let div = d3.select('#dd1').text(mpg_scale(5.5));\n",
       "</script>\n"
      ],
      "text/plain": [
       "<IPython.core.display.HTML object>"
      ]
     },
     "metadata": {},
     "output_type": "display_data"
    }
   ],
   "source": [
    "%%html\n",
    "<div id=\"dd1\"></div>\n",
    "<script type=\"module\"> \n",
    "    import * as d3 from \"https://cdn.skypack.dev/d3@7\"; \n",
    "    let mpg_scale = d3.scaleLinear([1,10],[0,600]);\n",
    "    let div = d3.select('#dd1').text(mpg_scale(5.5));\n",
    "</script>"
   ]
  },
  {
   "cell_type": "markdown",
   "id": "15efb4f2-a27e-4a50-a7b0-f610309253c1",
   "metadata": {},
   "source": [
    "#### <u>D3 Scale Example</u>"
   ]
  },
  {
   "cell_type": "markdown",
   "id": "a3df3b22-7bfa-41b8-998f-8c625b43d5d4",
   "metadata": {},
   "source": [
    "Now we will start from the basic webfolder template located [here](https://github.com/timothyjamesbecker/Interactive_Data_Visualization/tree/main/d3_template_webapp) and then modify the main.js file as shown below:"
   ]
  },
  {
   "cell_type": "raw",
   "id": "d243563b-f6f7-474f-b685-6cf4fef985dc",
   "metadata": {},
   "source": [
    "let cars = null;\n",
    "const data = d3.dsv(\",\", \"cars.csv\", (d) => {\n",
    "    if(+d.hp<110) {\n",
    "        return {\n",
    "            mpg: +d.mpg,\n",
    "            hp: +d.hp\n",
    "        };\n",
    "    }\n",
    "}).then((res,err)=>{\n",
    "    console.log(err);\n",
    "    console.log(cars);\n",
    "    cars = res;\n",
    "    let _min = d3.min(cars,function(d){ return d.mpg; });\n",
    "    let _max = d3.max(cars,function(d){ return d.mpg; });\n",
    "    let mpg_scale = d3.scaleLinear([_min,_max],[0,600]);\n",
    "    d3.select(\"body\").text(mpg_scale(cars[0].mpg));\n",
    "});"
   ]
  },
  {
   "cell_type": "markdown",
   "id": "fd275d4b-fda4-4ffe-adf3-2e0e966bb1b1",
   "metadata": {},
   "source": [
    "#### <u>D3 Drawing With the Scale</u>\n",
    "\n",
    "Now we will add some additional code so that we can make a scatter plot of mpg and hp using linear scales"
   ]
  },
  {
   "cell_type": "raw",
   "id": "f2aac224-11ba-49de-9c17-5595b0b0d2ad",
   "metadata": {},
   "source": [
    "let cars = null;\n",
    "let width = 600, height = 400;\n",
    "\n",
    "const data = d3.dsv(\",\", \"cars.csv\", (d) => {\n",
    "    if(+d.hp<110) {\n",
    "        return {\n",
    "            mpg: +d.mpg,\n",
    "            hp: +d.hp\n",
    "        };\n",
    "    }\n",
    "}).then((res,err)=>{\n",
    "    console.log(err);\n",
    "    console.log(cars);\n",
    "    cars = res;\n",
    "\n",
    "    let _min = d3.min(cars,function(d){ return d.mpg; });\n",
    "    let _max = d3.max(cars,function(d){ return d.mpg; });\n",
    "    let mpg_scale = d3.scaleLinear([_min,_max],[0,width]);\n",
    "\n",
    "    _min = d3.min(cars,function(d){ return d.hp; });\n",
    "    _max = d3.max(cars,function(d){ return d.hp; });\n",
    "    let hp_scale  = d3.scaleLinear([_min,_max],[height,0]);\n",
    "\n",
    "    let svg = d3.select(\"body\").append(\"svg\")\n",
    "        .attr(\"width\", width)\n",
    "        .attr(\"height\", height)\n",
    "        .append(\"g\");\n",
    "\n",
    "    svg.selectAll(\"circle\").data(cars).enter().append(\"circle\")\n",
    "        .attr(\"cx\",function(d){ return mpg_scale(d.mpg); })\n",
    "        .attr(\"cy\",function(d){ return hp_scale(d.hp); })\n",
    "        .attr(\"r\",5)\n",
    "        .attr(\"fill\",\"rgb(255,0,0)\")\n",
    "});"
   ]
  },
  {
   "cell_type": "markdown",
   "id": "0102bef2-fbd7-4bc5-9fe2-7d497dcee090",
   "metadata": {},
   "source": [
    "#### <u>Data Type Transform</u>\n",
    "\n",
    "But what about the other types such as categorical data or ordinal. We it can be very simple in that we used enumeration or we can creat our own map literal and use that."
   ]
  },
  {
   "cell_type": "code",
   "execution_count": 4,
   "id": "6dcbe365-56f6-4a39-8526-5558fe35a314",
   "metadata": {},
   "outputs": [
    {
     "data": {
      "application/javascript": [
       "\n",
       "let M = {\"hot\":4,\"warm\":3,\"cool\":2,\"cold\":1,\"freezing\":0};\n",
       "let xs = [\"hot\",\"hot\",\"warm\",\"cold\",\"freezing\"];\n",
       "let dt = [];\n",
       "for(let x of xs){ dt.push(M[x]); }\n",
       "alert(dt);\n"
      ],
      "text/plain": [
       "<IPython.core.display.Javascript object>"
      ]
     },
     "metadata": {},
     "output_type": "display_data"
    }
   ],
   "source": [
    "%%javascript\n",
    "\n",
    "let M = {\"hot\":4,\"warm\":3,\"cool\":2,\"cold\":1,\"freezing\":0};\n",
    "let xs = [\"hot\",\"hot\",\"warm\",\"cold\",\"freezing\"];\n",
    "let dt = [];\n",
    "for(let x of xs){ dt.push(M[x]); }\n",
    "alert(dt);"
   ]
  },
  {
   "cell_type": "markdown",
   "id": "456496cc-ec68-47ca-947a-5bb59cd2ac96",
   "metadata": {},
   "source": [
    "#### Exercises\n",
    "#### [1] Try another type of scale from the [d3-scale](https://d3js.org/d3-scale) page such as log.  \n",
    "#### [2] Look back at the cars data set and pick a new variable and then modify the main.js file to make a transform to pixel space.\n",
    "\n",
    "#### [3] Try to draw different color circles.\n",
    "\n",
    "#### [4] How can you modify the scale to keep the circles from being cut off? Hint: use the equations above to make some room (margins)."
   ]
  },
  {
   "cell_type": "code",
   "execution_count": null,
   "id": "eb3ff736-08bf-4396-b304-d04ac65236fb",
   "metadata": {},
   "outputs": [],
   "source": []
  }
 ],
 "metadata": {
  "kernelspec": {
   "display_name": "Python 3 (ipykernel)",
   "language": "python",
   "name": "python3"
  },
  "language_info": {
   "codemirror_mode": {
    "name": "ipython",
    "version": 3
   },
   "file_extension": ".py",
   "mimetype": "text/x-python",
   "name": "python",
   "nbconvert_exporter": "python",
   "pygments_lexer": "ipython3",
   "version": "3.12.4"
  }
 },
 "nbformat": 4,
 "nbformat_minor": 5
}
