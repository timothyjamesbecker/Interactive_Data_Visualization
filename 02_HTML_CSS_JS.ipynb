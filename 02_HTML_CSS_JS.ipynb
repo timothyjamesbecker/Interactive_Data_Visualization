{
 "cells": [
  {
   "cell_type": "markdown",
   "id": "7e2b21ca-1aa5-4c20-930f-9eed2b21580d",
   "metadata": {},
   "source": [
    "# Interactive Data Visualization\n",
    "##### (C) 2023-2025 Timothy James Becker: [revision 1.0](),  [GPLv3 license](https://www.gnu.org/licenses/gpl-3.0.html)"
   ]
  },
  {
   "cell_type": "markdown",
   "id": "79003073-d033-4ecc-bf26-8f230821bf04",
   "metadata": {},
   "source": [
    "## HTML/CSS/JS Introduction\n",
    "This notebook serves as a brief introduction and overview to basic HTML/CSS/JS concepts that will be needed for interactive visualization application development.  That being said only a few of the many HTML tags are needed in this work.  But in contrast much of CSS is needed in visualization since CSS in general is the mechanism by which color, shape and most of the visual elements with be implemented.  Similarly because data will formulate a mapping to geometric objects in our visualization, almost all aspects of the JavaScript will been necessary for visual interactions to manifest."
   ]
  },
  {
   "cell_type": "markdown",
   "id": "6e680d03-eb46-4f09-a45d-a5a3f29c4a79",
   "metadata": {},
   "source": [
    "## <u>HTML</u>\n",
    "#### [Hypertext Markup Language](https://developer.mozilla.org/en-US/docs/Web/HTML)\n",
    "\n",
    "HTML is the document format that browsers use to render pages. In early days this was simple links called [hyperlinks](https://developer.mozilla.org/en-US/docs/Learn_web_development/Core/Structuring_content/Creating_links) which allowed one page to direct the user (through clicking interactions) to another page (which could be on another server).  Next embedded [images](https://developer.mozilla.org/en-US/docs/Web/SVG/Reference/Element/image) and other [multimedia files](https://developer.mozilla.org/en-US/docs/Web/Media/Guides/Formats/Containers) became available for sharing and increasing user experience (before dedicated apps and services like [TikTok](https://www.tiktok.com/explore), [YouTube](https://www.youtube.com/), etc. existed).  Finally, as webpages became more used it became common to provide additional scripted interactions and visuals such as animations which were performed with the use of browser plugins like [flash](https://en.wikipedia.org/wiki/Adobe_Flash) which required users install additional software and get it to work as a plugin inside the browser.  Today plugins are mostly not used and [Firefox](https://www.firefox.com/en-US/?redirect_source=mozilla-org) and other open-source browsers support a much more enriching environment with the latest web technologies that allow for multimedia as well as advanced scripting that can use [JavaScript](https://developer.mozilla.org/en-US/docs/Web/JavaScript) to control a rich set of vector or even [3D WEB-GL](https://threejs.org/) environments making [web-based gaming](https://play.unity.com/en) and other rich experiences possible.\n",
    "\n",
    "For most of visualization work the following tags are helpful to learn about and you can use this [cheetsheet](https://developer.mozilla.org/en-US/docs/Web/HTML/Guides/Cheatsheet) which has more common tags\""
   ]
  },
  {
   "cell_type": "markdown",
   "id": "dd8d3958-532d-4817-92f0-eb19a1c6f61e",
   "metadata": {},
   "source": [
    "#### [div](https://developer.mozilla.org/en-US/docs/Web/HTML/Reference/Elements/div)"
   ]
  },
  {
   "cell_type": "code",
   "execution_count": null,
   "id": "16f2b2f6-b52d-490f-8671-077a9fce248b",
   "metadata": {},
   "outputs": [],
   "source": [
    "<div></div> #a vertical separator and container tag"
   ]
  },
  {
   "cell_type": "markdown",
   "id": "61d6ed6e-5b90-49bb-bf58-6fdb8bd636dd",
   "metadata": {},
   "source": [
    "#### [span](https://developer.mozilla.org/en-US/docs/Web/HTML/Reference/Elements/span)"
   ]
  },
  {
   "cell_type": "code",
   "execution_count": null,
   "id": "bcbc50a5-8283-48f4-a9fd-77017f5e48de",
   "metadata": {},
   "outputs": [],
   "source": [
    "<span></span> #a horizontal separator and container tag"
   ]
  },
  {
   "cell_type": "markdown",
   "id": "deca6697-69e1-4f69-911f-d92d7c349df2",
   "metadata": {},
   "source": [
    "#### [a](https://developer.mozilla.org/en-US/docs/Web/SVG/Reference/Element/a)"
   ]
  },
  {
   "cell_type": "code",
   "execution_count": null,
   "id": "4bbde3c4-40da-40d1-9fce-06c24abcb5af",
   "metadata": {},
   "outputs": [],
   "source": [
    "<a href=\"https://www.conncoll.edu\"> #anchor tag used for hyperlinks"
   ]
  },
  {
   "cell_type": "markdown",
   "id": "25ca3af7-7ace-4d97-ade7-2fa5c68f156b",
   "metadata": {},
   "source": [
    "#### [link](https://developer.mozilla.org/en-US/docs/Web/HTML/Reference/Elements/link)"
   ]
  },
  {
   "cell_type": "code",
   "execution_count": null,
   "id": "c9e74033-f0f0-48bb-907a-f1717e3198f1",
   "metadata": {},
   "outputs": [],
   "source": [
    "<link href=\"main.css\" rel=\"stylesheet\" /> #link tag to load external files like a CSS"
   ]
  },
  {
   "cell_type": "markdown",
   "id": "600631f3-58ef-49c3-a848-cfe8b8d03997",
   "metadata": {},
   "source": [
    "#### [script](https://developer.mozilla.org/en-US/docs/Web/SVG/Reference/Element/script)"
   ]
  },
  {
   "cell_type": "code",
   "execution_count": null,
   "id": "f0489509-cf6f-4767-bfd4-de2244835b0c",
   "metadata": {},
   "outputs": [],
   "source": [
    "<script src=\"main.js\"></script> #script tage used to load external Javascript files"
   ]
  },
  {
   "cell_type": "markdown",
   "id": "e3def625-f5c6-423d-b07f-c564b2378996",
   "metadata": {},
   "source": [
    "#### [style](https://developer.mozilla.org/en-US/docs/Web/SVG/Reference/Element/style)"
   ]
  },
  {
   "cell_type": "code",
   "execution_count": null,
   "id": "40d2dbe6-6701-446e-af3e-bee64af7d4f7",
   "metadata": {},
   "outputs": [],
   "source": [
    "<style></style> #inline style when you want to add CSS but not use an seperate file and the link tag to load it"
   ]
  },
  {
   "cell_type": "markdown",
   "id": "105967ef-2e5f-47dd-a7f2-232977c3d81c",
   "metadata": {},
   "source": [
    "#### [svg](https://developer.mozilla.org/en-US/docs/Web/SVG)"
   ]
  },
  {
   "cell_type": "code",
   "execution_count": null,
   "id": "78e395a9-faa6-491d-952b-62288fe81dce",
   "metadata": {},
   "outputs": [],
   "source": [
    "<svg><svg> #Scalable Vector Graphics is used for geometric visualization in 2D using d3"
   ]
  },
  {
   "cell_type": "markdown",
   "id": "9a6286f3-aec9-4e20-88ee-5530aadc45a3",
   "metadata": {},
   "source": [
    "#### [html,head,meta,title](https://developer.mozilla.org/en-US/docs/Web/HTML/Reference/Elements/html)"
   ]
  },
  {
   "cell_type": "code",
   "execution_count": null,
   "id": "3ff5f594-38b2-4353-a56e-7f62b3a027c2",
   "metadata": {},
   "outputs": [],
   "source": [
    "<html> #one of the needed tags to render in a browser"
   ]
  },
  {
   "cell_type": "code",
   "execution_count": null,
   "id": "41f799f9-5e64-4726-a50d-cd771c5b6a48",
   "metadata": {},
   "outputs": [],
   "source": [
    "<head> #a header tag needed to render in a browser"
   ]
  },
  {
   "cell_type": "code",
   "execution_count": null,
   "id": "a48973e1-a2b8-4483-85fa-b43080feabf7",
   "metadata": {},
   "outputs": [],
   "source": [
    "<meta> #metadat tag needed for rendering in a browser"
   ]
  },
  {
   "cell_type": "code",
   "execution_count": null,
   "id": "1f28d650-556d-490a-9b2a-2a0f38f2c3cd",
   "metadata": {},
   "outputs": [],
   "source": [
    "<title> #title for page put inside the header tag"
   ]
  },
  {
   "cell_type": "markdown",
   "id": "ac1a4455-243c-4517-9495-1ff1e8edcb6a",
   "metadata": {},
   "source": [
    "A basic empty page would use these as (notice that you don't normal add %%html magics):"
   ]
  },
  {
   "cell_type": "code",
   "execution_count": 4,
   "id": "ee395915-ba0a-496f-816f-2ac3b6b52fb9",
   "metadata": {},
   "outputs": [
    {
     "data": {
      "text/html": [
       "<!doctype html>\n",
       "<html lang=\"en\">\n",
       "    <head>\n",
       "        <meta charset=\"UTF-8\" />\n",
       "        <title>Example Title</title>\n",
       "    </head>\n",
       "    <body>\n",
       "    </body>\n",
       "</html>\n"
      ],
      "text/plain": [
       "<IPython.core.display.HTML object>"
      ]
     },
     "metadata": {},
     "output_type": "display_data"
    }
   ],
   "source": [
    "%%html\n",
    "<!doctype html>\n",
    "<html lang=\"en\">\n",
    "    <head>\n",
    "        <meta charset=\"UTF-8\" />\n",
    "        <title>Example Title</title>\n",
    "    </head>\n",
    "    <body>\n",
    "    </body>\n",
    "</html>"
   ]
  },
  {
   "cell_type": "markdown",
   "id": "fb8e7287-f995-4bb2-b111-27549a73122e",
   "metadata": {},
   "source": [
    "We can practice some basic HTML tags right here in the jupyter notebook using magic which is special characters and then can follow with our HTML code. This may be nice for simple practice."
   ]
  },
  {
   "cell_type": "code",
   "execution_count": 5,
   "id": "7674e945-3a6c-4d0e-835b-1699a45524eb",
   "metadata": {},
   "outputs": [
    {
     "data": {
      "text/html": [
       "<!doctype html>\n",
       "<html lang=\"en\">\n",
       "    <head>\n",
       "        <meta charset=\"UTF-8\" />\n",
       "        <title>Example Title</title>\n",
       "    </head>\n",
       "    <body>\n",
       "        <span id=\"sp1\">\n",
       "                This is an example span\n",
       "        </span>\n",
       "        <span id=\"sp2\">\n",
       "                This is the second one\n",
       "        </span>\n",
       "    </body>\n",
       "</html>\n"
      ],
      "text/plain": [
       "<IPython.core.display.HTML object>"
      ]
     },
     "metadata": {},
     "output_type": "display_data"
    }
   ],
   "source": [
    "%%html\n",
    "<!doctype html>\n",
    "<html lang=\"en\">\n",
    "    <head>\n",
    "        <meta charset=\"UTF-8\" />\n",
    "        <title>Example Title</title>\n",
    "    </head>\n",
    "    <body>\n",
    "        <span id=\"sp1\">\n",
    "                This is an example span\n",
    "        </span>\n",
    "        <span id=\"sp2\">\n",
    "                This is the second one\n",
    "        </span>\n",
    "    </body>\n",
    "</html>"
   ]
  },
  {
   "cell_type": "code",
   "execution_count": 11,
   "id": "2e750fc8-29ef-45d3-a9c0-0cee56e62eed",
   "metadata": {},
   "outputs": [
    {
     "data": {
      "text/html": [
       "<!doctype html>\n",
       "<html lang=\"en\">\n",
       "    <head>\n",
       "        <meta charset=\"UTF-8\" />\n",
       "        <title>Example Title</title>\n",
       "    </head>\n",
       "    <body>\n",
       "        <div id=\"d1\">\n",
       "               Div One\n",
       "        </div>\n",
       "        <div id=\"d2\">\n",
       "               Div Two\n",
       "        </div>\n",
       "    </body>\n",
       "</html>\n"
      ],
      "text/plain": [
       "<IPython.core.display.HTML object>"
      ]
     },
     "metadata": {},
     "output_type": "display_data"
    }
   ],
   "source": [
    "%%html\n",
    "<!doctype html>\n",
    "<html lang=\"en\">\n",
    "    <head>\n",
    "        <meta charset=\"UTF-8\" />\n",
    "        <title>Example Title</title>\n",
    "    </head>\n",
    "    <body>\n",
    "        <div id=\"d1\">\n",
    "               Div One\n",
    "        </div>\n",
    "        <div id=\"d2\">\n",
    "               Div Two\n",
    "        </div>\n",
    "    </body>\n",
    "</html>"
   ]
  },
  {
   "cell_type": "markdown",
   "id": "fbcdfa91-1f53-46ad-85b4-0fd95f561da5",
   "metadata": {},
   "source": [
    "## <u>CSS</u>\n",
    "#### [Cascading Style Sheets](https://developer.mozilla.org/en-US/docs/Web/CSS)\n",
    "We use CSS for layout functionality, styling which can include fonts, text color, background color and so many other design instructions (that will be visual). Here we will reference the official documentation since it is helpful to study or lookup styles and the CSS docs when trying to read or understand an existing CSS or trying to design new layouts or styling for your own visualizations. Instead, we will include some examples of common CSS language elements that will appear in visualization designs in this OER resource below. The basic syntax involves using one or more [selections](https://developer.mozilla.org/en-US/docs/Web/CSS/CSS_selectors/Selector_structure) followed by the styles you want to apply on those elements using the [property:value](https://developer.mozilla.org/en-US/docs/Web/CSS/CSS_syntax/Syntax) syntax."
   ]
  },
  {
   "cell_type": "code",
   "execution_count": null,
   "id": "191e7965-2214-4625-9e8b-6a0a4d97e2a5",
   "metadata": {},
   "outputs": [],
   "source": [
    "select{\n",
    "    property1: value1;\n",
    "    property2: value2;\n",
    "}"
   ]
  },
  {
   "cell_type": "code",
   "execution_count": 1,
   "id": "f7bae5d8-511c-4d04-bd6f-fcba766d8ead",
   "metadata": {},
   "outputs": [
    {
     "data": {
      "text/html": [
       "<!doctype html>\n",
       "<html lang=\"en\">\n",
       "    <head>\n",
       "        <meta charset=\"UTF-8\" />\n",
       "        <title>Example Title</title>\n",
       "        <style>\n",
       "            #div1{\n",
       "                background-color: red;\n",
       "            }\n",
       "            #div2{\n",
       "                background-color: blue;\n",
       "            }\n",
       "        </style>\n",
       "    </head>\n",
       "    <body>\n",
       "        <div id=\"div1\">\n",
       "               Div One\n",
       "        </div>\n",
       "        <div id=\"div2\">\n",
       "               Div Two\n",
       "        </div>\n",
       "    </body>\n",
       "</html>\n"
      ],
      "text/plain": [
       "<IPython.core.display.HTML object>"
      ]
     },
     "metadata": {},
     "output_type": "display_data"
    }
   ],
   "source": [
    "%%html\n",
    "<!doctype html>\n",
    "<html lang=\"en\">\n",
    "    <head>\n",
    "        <meta charset=\"UTF-8\" />\n",
    "        <title>Example Title</title>\n",
    "        <style>\n",
    "            #div1{\n",
    "                background-color: red;\n",
    "            }\n",
    "            #div2{\n",
    "                background-color: blue;\n",
    "            }\n",
    "        </style>\n",
    "    </head>\n",
    "    <body>\n",
    "        <div id=\"div1\">\n",
    "               Div One\n",
    "        </div>\n",
    "        <div id=\"div2\">\n",
    "               Div Two\n",
    "        </div>\n",
    "    </body>\n",
    "</html>"
   ]
  },
  {
   "cell_type": "code",
   "execution_count": 13,
   "id": "ac1604bc-2592-4960-b62e-929495243114",
   "metadata": {},
   "outputs": [
    {
     "data": {
      "text/html": [
       "<!doctype html>\n",
       "<html lang=\"en\">\n",
       "    <head>\n",
       "        <meta charset=\"UTF-8\" />\n",
       "        <title>Example Title</title>\n",
       "    </head>\n",
       "    <body>\n",
       "    <svg viewBox=\"0 0 20 20\" xmlns=\"http://www.w3.org/1000/svg\">\n",
       "      <style>\n",
       "        #mycircle {\n",
       "          fill: gold;\n",
       "          stroke: maroon;\n",
       "          stroke-width: 2px;\n",
       "      }\n",
       "      </style>\n",
       "      <circle id=\"mycircle\" cx=\"5\" cy=\"5\" r=\"5\" />\n",
       "    </svg>\n",
       "    </body>\n",
       "</html>\n"
      ],
      "text/plain": [
       "<IPython.core.display.HTML object>"
      ]
     },
     "metadata": {},
     "output_type": "display_data"
    }
   ],
   "source": [
    "%%html\n",
    "<!doctype html>\n",
    "<html lang=\"en\">\n",
    "    <head>\n",
    "        <meta charset=\"UTF-8\" />\n",
    "        <title>Example Title</title>\n",
    "    </head>\n",
    "    <body>\n",
    "    <svg viewBox=\"0 0 20 20\" xmlns=\"http://www.w3.org/1000/svg\">\n",
    "      <style>\n",
    "        #mycircle {\n",
    "          fill: gold;\n",
    "          stroke: maroon;\n",
    "          stroke-width: 2px;\n",
    "      }\n",
    "      </style>\n",
    "      <circle id=\"mycircle\" cx=\"5\" cy=\"5\" r=\"5\" />\n",
    "    </svg>\n",
    "    </body>\n",
    "</html>"
   ]
  },
  {
   "cell_type": "markdown",
   "id": "fe577084-aa08-4c10-9afe-72b5588f6de0",
   "metadata": {},
   "source": [
    "## <u>JS</u>\n",
    "#### JavaScript: [ECMA5/ECMA6](https://en.wikipedia.org/wiki/ECMAScript)\n",
    "A scripting language to make interactions work, load data and turn static web pages into more enriching experiences.  This follow programming mechnisms like variables, loops, functions, arrays, and objects."
   ]
  },
  {
   "cell_type": "markdown",
   "id": "9c0d6623-4bf1-43ce-ad69-2388fdc93827",
   "metadata": {},
   "source": [
    "#### Variables\n",
    "ECMA5 uses the var keyword, while newer ECMA6 style uses [let](https://developer.mozilla.org/en-US/docs/Web/JavaScript/Reference/Statements/let). Either are fine but var can caused issues if the programmer is not careful since it works differently than a variable in python or java for example. There is a nice tutorial on variables that we will use [here](https://developer.mozilla.org/en-US/docs/Learn_web_development/Core/Scripting/Variables) and then practice below with some examples."
   ]
  },
  {
   "cell_type": "code",
   "execution_count": 16,
   "id": "1cd6f5cf-bc35-4d5a-a216-5bd0a6650bcf",
   "metadata": {},
   "outputs": [
    {
     "data": {
      "application/javascript": [
       "let x = 10;\n",
       "alert(x);\n"
      ],
      "text/plain": [
       "<IPython.core.display.Javascript object>"
      ]
     },
     "metadata": {},
     "output_type": "display_data"
    }
   ],
   "source": [
    "%%javascript\n",
    "let x = 10;\n",
    "alert(x); #displays a popup with the answer of x when run"
   ]
  },
  {
   "cell_type": "markdown",
   "id": "ae277b99-a958-43e6-8fa1-5d6d8e9e4731",
   "metadata": {},
   "source": [
    "some [string](https://developer.mozilla.org/en-US/docs/Web/JavaScript/Reference/Global_Objects/String) processing using the built in methods is very nice!"
   ]
  },
  {
   "cell_type": "code",
   "execution_count": 18,
   "id": "4936589c-609e-4a18-96c6-4910fb4e0ebf",
   "metadata": {},
   "outputs": [
    {
     "data": {
      "application/javascript": [
       "//const is for constant if you don't need to update its value\n",
       "const s = \"This is a string\"; //always try to end a line with ;\n",
       "let t = s.toUpperCase();\n",
       "alert(t);\n"
      ],
      "text/plain": [
       "<IPython.core.display.Javascript object>"
      ]
     },
     "metadata": {},
     "output_type": "display_data"
    }
   ],
   "source": [
    "%%javascript\n",
    "const s = \"This is a string\";\n",
    "let t = s.toUpperCase(); //built in functions/methods\n",
    "alert(t);"
   ]
  },
  {
   "cell_type": "markdown",
   "id": "c03837a1-a780-4985-abb7-6de008cf3df4",
   "metadata": {},
   "source": [
    "#### Loops\n",
    "You have access to the [for](https://developer.mozilla.org/en-US/docs/Web/JavaScript/Guide/Loops_and_iteration#for_statement), [while](https://developer.mozilla.org/en-US/docs/Web/JavaScript/Guide/Loops_and_iteration#while_statement) and [recursion](https://developer.mozilla.org/en-US/docs/Web/JavaScript/Guide/Functions#recursion), although for with be the best for data in general. The for loop has the standard couting variable and the iterator version (a little like python, but not exactly!)"
   ]
  },
  {
   "cell_type": "code",
   "execution_count": 20,
   "id": "78b257b6-14e9-4088-beae-a9de29482f4c",
   "metadata": {},
   "outputs": [
    {
     "data": {
      "application/javascript": [
       "let x = 0;\n",
       "while(x<3){\n",
       "    alert(x);\n",
       "    x++;\n",
       "}\n"
      ],
      "text/plain": [
       "<IPython.core.display.Javascript object>"
      ]
     },
     "metadata": {},
     "output_type": "display_data"
    }
   ],
   "source": [
    "%%javascript\n",
    "let x = 0;\n",
    "while(x<3){\n",
    "    alert(x);\n",
    "    x++;\n",
    "}"
   ]
  },
  {
   "cell_type": "code",
   "execution_count": 30,
   "id": "930297ae-3fed-4e9c-8db3-7160288ac2a1",
   "metadata": {},
   "outputs": [
    {
     "data": {
      "application/javascript": [
       "let y = 0;\n",
       "for(let i=0; i<3; i++){\n",
       "    y = y+1;\n",
       "}\n",
       "alert(y);\n"
      ],
      "text/plain": [
       "<IPython.core.display.Javascript object>"
      ]
     },
     "metadata": {},
     "output_type": "display_data"
    }
   ],
   "source": [
    "%%javascript\n",
    "let y = 0;\n",
    "for(let i=0; i<3; i++){\n",
    "    y = y+1;\n",
    "}\n",
    "alert(y);"
   ]
  },
  {
   "cell_type": "markdown",
   "id": "422999ed-bb04-4e88-8697-94ff02f67b68",
   "metadata": {},
   "source": [
    "#### Functions\n",
    "When ever you want to have more than one line of code execute multiple times it may be a good idea to use either a loop or a [function](https://developer.mozilla.org/en-US/docs/Web/JavaScript/Guide/Functions). Functions will help to keep your code readible, reliable and also compact! The second is actually a function and a loop since this is recursion in JavaScript."
   ]
  },
  {
   "cell_type": "code",
   "execution_count": 31,
   "id": "f74236a2-2deb-4afc-9626-bba1aa424826",
   "metadata": {},
   "outputs": [
    {
     "data": {
      "application/javascript": [
       "function abs_diff_plus_one(x,y){\n",
       "    let z = x-y;\n",
       "    if(z<0){ z = z*(-1); }\n",
       "    z = z + 1;\n",
       "    return z\n",
       "}\n",
       "\n",
       "let x = 10;\n",
       "let y = 15;\n",
       "alert(abs_diff_plus_one(x,y));\n"
      ],
      "text/plain": [
       "<IPython.core.display.Javascript object>"
      ]
     },
     "metadata": {},
     "output_type": "display_data"
    }
   ],
   "source": [
    "%%javascript\n",
    "function abs_diff_plus_one(x,y){\n",
    "    let z = x-y;\n",
    "    if(z<0){ z = z*(-1); }\n",
    "    z = z + 1;\n",
    "    return z\n",
    "}\n",
    "\n",
    "let x = 10;\n",
    "let y = 15;\n",
    "alert(abs_diff_plus_one(x,y));"
   ]
  },
  {
   "cell_type": "code",
   "execution_count": 32,
   "id": "d6403b18-c590-456f-ba23-9dfc04436068",
   "metadata": {},
   "outputs": [
    {
     "data": {
      "application/javascript": [
       "function loop(x){\n",
       "    if(x<1){\n",
       "        return 0;\n",
       "    } else{\n",
       "        return loop(x-1)+x;\n",
       "    }\n",
       "}\n",
       "\n",
       "let z = 10;\n",
       "alert(loop(z));\n"
      ],
      "text/plain": [
       "<IPython.core.display.Javascript object>"
      ]
     },
     "metadata": {},
     "output_type": "display_data"
    }
   ],
   "source": [
    "%%javascript\n",
    "function loop(x){\n",
    "    if(x<1){\n",
    "        return 0;\n",
    "    } else{\n",
    "        return loop(x-1)+x;\n",
    "    }\n",
    "}\n",
    "\n",
    "let z = 10;\n",
    "alert(loop(z));"
   ]
  },
  {
   "cell_type": "markdown",
   "id": "46ad2717-afed-49f1-aff5-248785ba7449",
   "metadata": {},
   "source": [
    "#### Arrays\n",
    "We will often make use of a datastucture like an [array ](https://developer.mozilla.org/en-US/docs/Web/JavaScript/Reference/Global_Objects/Array) with data visualization. For tables it will be an array of similiar objects which will be generated from the d3.js data parser (CSV and JSON fetch based data readers). You should think of the base JavaScript Aray class as more of a [list](https://docs.python.org/3/tutorial/datastructures.html) in python or [ArrayList](https://docs.oracle.com/javase/8/docs/api/java/util/ArrayList.html) in Java. Here we will demonstrate the iterator version of the for loop which can save some typing on arays."
   ]
  },
  {
   "cell_type": "code",
   "execution_count": 34,
   "id": "f06e322a-8000-4d9d-a71b-36d38ee3d397",
   "metadata": {},
   "outputs": [
    {
     "data": {
      "application/javascript": [
       "let xs = [1,2,3];\n",
       "for(const x of xs){\n",
       "    alert(x);\n",
       "}\n"
      ],
      "text/plain": [
       "<IPython.core.display.Javascript object>"
      ]
     },
     "metadata": {},
     "output_type": "display_data"
    }
   ],
   "source": [
    "%%javascript\n",
    "let xs = [1,2,3];\n",
    "for(const x of xs){\n",
    "    alert(x);\n",
    "}"
   ]
  },
  {
   "cell_type": "code",
   "execution_count": 37,
   "id": "6478bb75-f9f3-45cd-a08a-2aa1801e73aa",
   "metadata": {},
   "outputs": [
    {
     "data": {
      "application/javascript": [
       "let x = 10;\n",
       "let xs = [];\n",
       "for(let i=0; i<x; i++){\n",
       "    xs.push(i+1);\n",
       "}\n",
       "alert(xs);\n"
      ],
      "text/plain": [
       "<IPython.core.display.Javascript object>"
      ]
     },
     "metadata": {},
     "output_type": "display_data"
    }
   ],
   "source": [
    "%%javascript\n",
    "let x = 10;\n",
    "let xs = [];\n",
    "for(let i=0; i<x; i++){\n",
    "    xs.push(i+1);\n",
    "}\n",
    "alert(xs);"
   ]
  },
  {
   "cell_type": "markdown",
   "id": "11046b94-3770-41cc-8759-7866452b0749",
   "metadata": {},
   "source": [
    "#### Objects\n",
    "Objects are a little like [dictionaries](https://docs.python.org/3/library/stdtypes.html#dict) in python o [HashMaps](https://docs.oracle.com/javase/8/docs/api/java/util/ArrayList.html) in Java which put simply are collections of values that ae associated with uniques keys.  For everry unique key in the obect thee will be one value. The rules are a little more strict than python since keys are typically strings and values can be anything (basically). One very cool aspect of these is that they fom the basis for the file format we will use called [JSON](https://developer.mozilla.org/en-US/docs/Learn_web_development/Core/Scripting/JSON)."
   ]
  },
  {
   "cell_type": "code",
   "execution_count": 39,
   "id": "bd3f49ad-11f1-48ee-8233-0b512888c862",
   "metadata": {},
   "outputs": [
    {
     "data": {
      "application/javascript": [
       "let ys = {1:1,2:2,3:3,4:4,5:5};\n",
       "for(let y of Object.keys(ys)){\n",
       "    alert(y);\n",
       "}\n"
      ],
      "text/plain": [
       "<IPython.core.display.Javascript object>"
      ]
     },
     "metadata": {},
     "output_type": "display_data"
    }
   ],
   "source": [
    "%%javascript\n",
    "let ys = {1:5,2:4,3:3,4:2,5:1};\n",
    "for(let y of Object.keys(ys)){\n",
    "    alert(y);\n",
    "}"
   ]
  },
  {
   "cell_type": "code",
   "execution_count": 40,
   "id": "93cd55c3-6b28-45dc-aae4-5bcdd2874f88",
   "metadata": {},
   "outputs": [
    {
     "data": {
      "application/javascript": [
       "let ys = {1:5,2:4,3:3,4:2,5:1};\n",
       "for(let y of Object.keys(ys)){\n",
       "    alert(ys[y]);\n",
       "}\n"
      ],
      "text/plain": [
       "<IPython.core.display.Javascript object>"
      ]
     },
     "metadata": {},
     "output_type": "display_data"
    }
   ],
   "source": [
    "%%javascript\n",
    "let ys = {1:5,2:4,3:3,4:2,5:1};\n",
    "for(let y of Object.keys(ys)){\n",
    "    alert(ys[y]);\n",
    "}"
   ]
  },
  {
   "cell_type": "code",
   "execution_count": 42,
   "id": "d2cdd27c-ea30-4189-8337-851e31dfa8d6",
   "metadata": {},
   "outputs": [
    {
     "data": {
      "application/javascript": [
       "let x = 5;\n",
       "let ys = {};\n",
       "for(let i=0; i<x; i++){\n",
       "    ys[i+1] = x-i;\n",
       "}\n",
       "alert(ys);\n"
      ],
      "text/plain": [
       "<IPython.core.display.Javascript object>"
      ]
     },
     "metadata": {},
     "output_type": "display_data"
    }
   ],
   "source": [
    "%%javascript\n",
    "let x = 5;\n",
    "let ys = {};\n",
    "for(let i=0; i<x; i++){\n",
    "    ys[i+1] = x-i;\n",
    "}\n",
    "alert(ys);"
   ]
  },
  {
   "cell_type": "code",
   "execution_count": 55,
   "id": "44993dbd-b4b9-437a-aaa6-05d78a3fa63f",
   "metadata": {},
   "outputs": [
    {
     "data": {
      "application/javascript": [
       "function print(xs){\n",
       "    let s = \"{\";\n",
       "    for(let x of Object.keys(xs)){\n",
       "        s = s+x+\":\"+xs[x]+\", \";\n",
       "    }\n",
       "    s = s.slice(0,s.length-2)+\"}\";\n",
       "    return s;\n",
       "}\n",
       "\n",
       "let x = 5;\n",
       "let ys = {};\n",
       "for(let i=0; i<x; i++){\n",
       "    ys[i+1] = x-i;\n",
       "}\n",
       "alert(print(ys));\n"
      ],
      "text/plain": [
       "<IPython.core.display.Javascript object>"
      ]
     },
     "metadata": {},
     "output_type": "display_data"
    }
   ],
   "source": [
    "%%javascript\n",
    "function print(xs){\n",
    "    let s = \"{\";\n",
    "    for(let x of Object.keys(xs)){\n",
    "        s = s+x+\":\"+xs[x]+\", \";\n",
    "    }\n",
    "    s = s.slice(0,s.length-2)+\"}\";\n",
    "    return s;\n",
    "}\n",
    "\n",
    "let x = 5;\n",
    "let ys = {};\n",
    "for(let i=0; i<x; i++){\n",
    "    ys[i+1] = x-i;\n",
    "}\n",
    "alert(print(ys));"
   ]
  }
 ],
 "metadata": {
  "kernelspec": {
   "display_name": "Python 3 (ipykernel)",
   "language": "python",
   "name": "python3"
  },
  "language_info": {
   "codemirror_mode": {
    "name": "ipython",
    "version": 3
   },
   "file_extension": ".py",
   "mimetype": "text/x-python",
   "name": "python",
   "nbconvert_exporter": "python",
   "pygments_lexer": "ipython3",
   "version": "3.12.4"
  }
 },
 "nbformat": 4,
 "nbformat_minor": 5
}
