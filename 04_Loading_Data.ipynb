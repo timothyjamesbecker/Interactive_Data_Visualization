{
 "cells": [
  {
   "cell_type": "markdown",
   "id": "ce86f202-91db-46be-be8f-190a1580f15c",
   "metadata": {},
   "source": [
    "# Interactive Data Visualization\n",
    "##### (C) 2023-2025 Timothy James Becker: [revision 1.0](),  [GPLv3 license](https://www.gnu.org/licenses/gpl-3.0.html) "
   ]
  },
  {
   "cell_type": "markdown",
   "id": "2e0e81c5-64b0-43c0-830c-bbff46080ed8",
   "metadata": {},
   "source": [
    "\n",
    "## <u>Finding and Loading Data</u>"
   ]
  },
  {
   "cell_type": "markdown",
   "id": "0a5e4a50-ec91-4a9f-a93b-0902acba16bd",
   "metadata": {},
   "source": [
    "#### <u>Public Datasets</u>\n",
    "\n",
    "There is a nice current listing in the github repository called [awesome-public-datasets](https://github.com/awesomedata/awesome-public-datasets) and will detail some of our favorites from the list. The basic premise of this repository is that vairous domains can contribute a URL and we can have a nice and compact listing of public (IEfree to use) data for our visualization practice. Some other nice places to look are [kaggle](https://www.kaggle.com/datasets) and some of the builtin data sets that are included in [scikit-learn](https://scikit-learn.org/stable/datasets.html) and [keras](https://keras.io/api/datasets/)\n",
    "\n",
    "[1000 Genomes](https://www.internationalgenome.org/data) A US/NIH funded whole genome research project that studied the genomes in 26 human populations. Currently there are over 3000 human genomes avaible (and analyzed).\n",
    "\n",
    "[ENCODE](https://www.encodeproject.org/) The Encyclopedia of DNA Elements (ENCODE) Consortium is an ongoing international collaboration of research groups funded by the National Human Genome Research Institute (NHGRI). The goal of ENCODE is to build a comprehensive parts list of functional elements in the human genome, including elements that act at the protein and RNA levels, and regulatory elements that control cells and circumstances in which a gene is active.\n",
    "\n",
    "[GEO](https://www.ncbi.nlm.nih.gov/gds/) Gene expression omnibus is a NIH funded sitre for gene expression data such as bulk RNA-seq and single cell RNA-seq.\n",
    "\n",
    "[GO](https://geneontology.org/docs/download-go-annotations/) The Gene Ontology (GO) is a structured, standardized representation of biological knowledge. GO describes concepts (also known as terms, or formally, classes) that are connected to each other via formally defined relations. The GO is designed to be species-agnostic to enable the annotation of gene products across the entire tree of life. The computational framework of the GO enables consistent gene annotation, comparison of functions across organisms, and integration of knowledge across diverse biological databases.\n",
    "\n",
    "[USCS Genome](https://hgdownload.soe.ucsc.edu/downloads.html)  This page contains links to sequence and annotation downloads for the genome assemblies featured in the UCSC Genome Browser. Downloads are also available via our JSON API, MySQL server, or FTP server. Data filtering is available in the Table Browser or via the command-line utilities.\n",
    "\n",
    "[NOAA](http://www.ncdc.noaa.gov/data-access/quick-links) NCEI provides environmental data, products, and services covering the depths of the ocean to the surface of the sun to drive resilience, prosperity, and equity for current and future generations.\n",
    "\n",
    "[NIST](https://math.nist.gov/~RPozo/complex_datasets.html) In analyzing large-scale complex networks, it is important to establish a standard dataset from which algorithms and claims be compared and verified. Currently, it is often difficult to track down the original data used for computational experiments. Much of it is floating around in various formats throughout the net, imbedded in papers, and often difficult to get from the authors. Moreover, the datasets are often modified (filtered) by research groups interested in different attributes, so that even when the name and descriptions match a citation in a paper, there is no guarantee that the data is identical. \n",
    "\n",
    "[International Economics Data](https://cid.ucdavis.edu/) The Center for International Data was established in 1999 and is directed by Robert Feenstra. The center is housed at the Department of Economics at the University of California, Davis. The purpose of this center is to collect, enhance, create, and disseminate international economic data, including online and offline distribution. This web site describes all the data available to the public from the Center, with details for downloading or ordering.\n",
    "\n",
    "[Yahoo Finance](http://finance.yahoo.com/) Yahoo finace provide some free stock downloads and other paid services.\n",
    "\n",
    "[CT Census Data](https://github.com/HandsOnDataViz/ct-boundaries/blob/main/ct-towns-2024-census.geojson) converted census data for easy inclusion in visualization projects.\n",
    "\n",
    "[NHANES](https://www.cdc.gov/nchs/nhanes/index.html) The National Health and Nutrition Examination Survey (NHANES) collects data about the health of adults and children in the United States. We also collect data about what participants eat, drink, and take as supplements to determine how many nutrients are in their diet. These dietary interviews and blood tests help us measure the nutritional status of U.S. adults and children.\n",
    "\n",
    "[TCGA](https://portal.gdc.cancer.gov/) The Cancer Genome Atlas project is a repository and computational platform for cancer researchers who need to understand cancer, its clinical progression, and response to therapy.\n",
    "\n",
    "[10K faces database](https://wilmabainbridge.com/datasets.html) Faces imgaes for machine learning and other uses.\n",
    "\n",
    "[CERN](https://opendata.cern.ch/search?q=&f=type%3ADataset&l=list&order=desc&p=1&s=10&sort=mostrecent) Physics datasets\n",
    "\n",
    "[Twitter Reputation Management](https://nlp.uned.es/replab2013/) RepLab is a competitive evaluation exercise for Online Reputation Management systems organized as an activity of CLEF. RepLab 2013 focused on the task of monitoring the reputation of entities (companies, organizations, celebrities, etc.) on Twitter. \n",
    "\n",
    "[baseball data](https://www.retrosheet.org/game.htm) Old basball scores"
   ]
  },
  {
   "cell_type": "markdown",
   "id": "0f5391ee-5ab4-43ec-83fa-f01d24eb380e",
   "metadata": {},
   "source": [
    "#### <u>Loading Data asynchronously with D3</u>\n",
    "\n",
    "Loading a file into the d3.js session is done asychronously meaning that function call will not block (stop the running javascript program).  Most modern web browser have up to 30 threads avaible for downloading resources such as HTML and media files using this method. Most modern CPUs can then process those requests and render them into the page in parallel theoretically speeding up the response time from when a user navtigates to a page and when that page is fully loaded."
   ]
  },
  {
   "cell_type": "markdown",
   "id": "2272214a-158b-4573-994f-8c31ecbb8aee",
   "metadata": {},
   "source": [
    "First start by downloading the [d3_template_webapp](https://github.com/timothyjamesbecker/Interactive_Data_Visualization/d3_template_webapp).  And then the example comma seperated value (CSV) file called [cars.csv](https://github.com/timothyjamesbecker/Interactive_Data_Visualization/blob/main/data/cars.csv). You should put the cars.csv file into your webfolder next to the other index.html, main.css and main.js files as shown below:\n",
    "\n",
    "<img src=\"figures/webstorm_data_file.png\" alt=\"webstorm_data_file\" width=\"700px\">"
   ]
  },
  {
   "cell_type": "markdown",
   "id": "cd5c07e8-8002-43f2-9734-6e81fea26bf7",
   "metadata": {},
   "source": [
    "Now we will use the d3.js library fetch function (which is a wrapper for the [JavaScript fetch API](https://developer.mozilla.org/en-US/docs/Web/API/Fetch_API/Using_Fetch)). More specifically d3 combines a CSV/TSV parser with the fetch API so that you get both the data and the abilty to parse it. You will modify the main.js file to have the following code:"
   ]
  },
  {
   "cell_type": "raw",
   "id": "96f51de2-31bd-4cc3-835a-39ae3656ece6",
   "metadata": {},
   "source": [
    "let cars = null;\n",
    "const data = d3.dsv(\",\", \"cars.csv\", (d) => {\n",
    "    return {\n",
    "        mpg: +d.mpg,\n",
    "        hp:  +d.hp,\n",
    "        name: d.name\n",
    "    };\n",
    "}).then((res,err)=>{\n",
    "    console.log(err);\n",
    "    cars = res;\n",
    "\n",
    "    console.log(cars);\n",
    "})"
   ]
  },
  {
   "cell_type": "markdown",
   "id": "2865b623-6e2c-4598-8c85-c58ccfd88708",
   "metadata": {},
   "source": [
    "d3.dsv() is a general purpose delimited parser and fetch API in one function. To have it chop up tab-seperate files you would simply modify the \",\" to be \"\\t\". The next argument is the file you want to load which is \"cars.csv\". This type of file path is known as a relative path and only works if you put the cars.csv file in the same filder as main.js. Next the (d) => indicates an anonymous function that will yeild a data selection. Notice how a data selection is different from a DOM selection that uses d3.select.  \n",
    "\n",
    "Here we are defining how we want the d3.dsv parser to proccess our data.  We use the return statement to pick which columns we want (projection) and then can give them a new name (alias) by defining key value pair.  After we have made our data selection and projection this is followed by the .then() function which is a shorthand for the data loader callback.  That is to say here we define what will happen once the data has been loaded.  \n",
    "\n",
    "First you will see that we have an <b>err</b> variable which will contain any data errors.  Next you will see the <b>res</b> variable which will contain the server response which in this case should be the array of objects data structure once the data selection/projection code has done its magic.  Use the console.log function to print the results into the browser and then always check those results before starting any visualization of the data."
   ]
  },
  {
   "cell_type": "markdown",
   "id": "de974d8f-88cb-41eb-b009-6f6a29ea635d",
   "metadata": {},
   "source": [
    "<img src=\"figures/webstorm_data_d3_dsv.png\" alt=\"webstorm_data_d3_dsv\" width=\"700px\">"
   ]
  },
  {
   "cell_type": "markdown",
   "id": "29437822-3130-4b9c-908f-9695b26f2982",
   "metadata": {},
   "source": [
    "You can see when you then launch your app and use the inspector (in firefox) that the contents of the <b>res</b> variable has been spilled to the console (showed as Array(32) \\[{...},{...}\\])"
   ]
  },
  {
   "cell_type": "markdown",
   "id": "7f1ef692-0011-4f68-9a98-0fb2a40a6e01",
   "metadata": {},
   "source": [
    "<img src=\"figures/webstorm_data_console.png\" alt=\"webstorm_data_console\" width=\"700px\">"
   ]
  },
  {
   "cell_type": "markdown",
   "id": "e00e4bc9-232f-4962-89d6-da7262373482",
   "metadata": {},
   "source": [
    "When you then click the right arrow, the array contents will be showed, which as we see are nicely formatted objects that have the mpg, hp and name key. Notice that the mpg and the hp have been converted to Number data types and that the name has been kept as the default string type."
   ]
  },
  {
   "cell_type": "markdown",
   "id": "5eb8ec57-c4da-4f74-bf53-2afb8c2c92fa",
   "metadata": {},
   "source": [
    "<img src=\"figures/webstorm_data_cars.png\" alt=\"webstorm_data_cars\" width=\"700px\">"
   ]
  },
  {
   "cell_type": "markdown",
   "id": "de06a1c2-265c-414f-a1c1-bd5ce0ea0c16",
   "metadata": {},
   "source": [
    "If we draw a table to represent the cars.csv table we can take a closer look at the projection here:"
   ]
  },
  {
   "cell_type": "markdown",
   "id": "8140a7f0-d3f7-41c5-8d11-d0613339ffdb",
   "metadata": {},
   "source": [
    "<img src=\"figures/data_d3_projection.png\" alt=\"data_d3_projection\" width=\"700px\">"
   ]
  },
  {
   "cell_type": "markdown",
   "id": "6dc9ad0d-a142-41e0-a005-e5a742998092",
   "metadata": {},
   "source": [
    "Projection allows us to reorder the columns and alias them allowing us to use better or shorter names which can simplyfy our JavaScript code. The other thing that we will do is to select some of our data rows instead of all of them (IE filter) by using limits of the values:\n",
    "\n",
    "<img src=\"figures/webstorm_data_d3_select_project.png\" alt=\"webstorm_data_d3_select_project\" width=\"700px\">\n",
    "\n",
    "This will have the effect of selecting the smaller engine cars that have less than 110 hp, which means we will have only 11 elements in our cars array instead of 32."
   ]
  },
  {
   "cell_type": "markdown",
   "id": "e83d88de-8637-4b2f-b89f-1cdcf2945511",
   "metadata": {},
   "source": [
    "<img src=\"figures/data_d3_selection.png\" alt=\"data_d3_selection\" width=\"700px\">"
   ]
  },
  {
   "cell_type": "markdown",
   "id": "7a58d34b-c336-4a1d-bf83-072c8771a5c3",
   "metadata": {},
   "source": [
    "#### Webstorm Table Viewer\n",
    "Webstorm has a built in (integratied) table viewer which should be used on any new tabular data format prior to trying to write a d3.js data loader web app since there could be issues with the file that the table viewer can help the designer deal with prior to the code which could contain errors.\n",
    "\n",
    "\n",
    "<img src=\"figures/webstorm_data_table_view.png\" alt=\"webstorm_data_table_view\" width=\"700px\">"
   ]
  },
  {
   "cell_type": "markdown",
   "id": "fcca6e4a-beee-4c05-8071-d8cfadb8c48d",
   "metadata": {},
   "source": [
    "#### Exercises\n",
    "\n",
    "#### [1] select only four-cylinder cars and keep all columns. How many are there?\n",
    "#### [2] select cars with greater than 20 mpg with wt less than 3.2 and keep all columns. How many are there?\n",
    "#### [3] do the above but get only the name of the car\n",
    "#### [4*] load another dataset from the repository (like NHANES.csv or ct-census...) and repeat this process by viewing in the table viewer, then selecting and projecting with the d3 data loader patterns shown here\n"
   ]
  },
  {
   "cell_type": "code",
   "execution_count": null,
   "id": "9de18f2b-aebb-4901-8c1f-59782d9310a2",
   "metadata": {},
   "outputs": [],
   "source": []
  }
 ],
 "metadata": {
  "kernelspec": {
   "display_name": "Python 3 (ipykernel)",
   "language": "python",
   "name": "python3"
  },
  "language_info": {
   "codemirror_mode": {
    "name": "ipython",
    "version": 3
   },
   "file_extension": ".py",
   "mimetype": "text/x-python",
   "name": "python",
   "nbconvert_exporter": "python",
   "pygments_lexer": "ipython3",
   "version": "3.12.4"
  }
 },
 "nbformat": 4,
 "nbformat_minor": 5
}
