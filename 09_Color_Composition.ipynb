{
 "cells": [
  {
   "cell_type": "markdown",
   "id": "34d890ac-3471-4b92-b7ce-bc3ebdc5c125",
   "metadata": {},
   "source": [
    "# Interactive Data Visualization\n",
    "##### (C) 2023-2025 Timothy James Becker: [revision 1.0](),  [GPLv3 license](https://www.gnu.org/licenses/gpl-3.0.html) "
   ]
  },
  {
   "cell_type": "markdown",
   "id": "dac3431d-c681-410d-b8b1-c21c017bfa25",
   "metadata": {},
   "source": [
    "#### <u>Color (Waves)</u>\n",
    "\n",
    "Energy produced by sources like stars (or flames from a fire) give off light.  Light can be described as either a wave or a particle (depending on what the application is). For our purposes, we will use waves since they lend themselves well to our applications of visualization using an LED display (screen).  Waves are also the way that music and sound are described in physics, but in the case of visible light the waves are much closer together (they have a very high frequency).\n",
    "\n",
    "The visible parts of the wave spectrum start at the low-end (larger waves are infrared or IR) with red (720nm) and proceed to go from orange (600nm) , yellow (580), green (550nm), to blue (480nm), purple (420nm) and ultra-violet or UV (smaller waves).\n",
    "\n",
    "<img src=\"figures/color_best_spectrum.png\" alt=\"color_best_spectrum\" width=\"800px\">\n",
    "\n",
    "(C) 2021 [Andrew T. Young](https://aty.sdsu.edu/explain/optics/rendering.html)\n"
   ]
  },
  {
   "cell_type": "markdown",
   "id": "e769a576-bcb8-4ea9-ac2e-dbd753cf3b13",
   "metadata": {},
   "source": [
    "Here the image shows a uniform energy being applied across the spectrum so we get a feeling for how the light starts out black in infrared and in the UV. The important fact about these waves is that they are continuous just as in sound and yet as humans we experience these waves in a very complex sensation known as color. Lower frequency waves we can sense as sound when they lie between 20Hz and 20KHz. The visual area of perception is highly developed in primates and is composed of multiple organs: eyes, nerves, brain tissue, etc."
   ]
  },
  {
   "cell_type": "markdown",
   "id": "fdc7ee2d-787f-4159-9fa7-5f937fcd2546",
   "metadata": {},
   "source": [
    "#### <u>Color (Perception)</u>\n",
    "\n",
    "Humans start visual sensation at the eye which is a biological [camera](https://en.wikipedia.org/wiki/Camera) where light is gathered, focused and transformed into [electro-chemical](https://bio.libretexts.org/Bookshelves/Introductory_and_General_Biology/General_Biology_(Boundless)/36%3A_Sensory_Systems/36.14%3A_Vision_-_Transduction_of_Light) pulses that travel on the [optic nerve](https://en.wikipedia.org/wiki/Optic_nerve) to the [visual cortex]() for further signal processing in our brain. \n",
    "\n",
    "\n",
    "The eye itself consists of the focusing element known as the [cornea](https://en.wikipedia.org/wiki/Cornea) which fits over the lens by way of the light-adjusting elements: [iris](https://en.wikipedia.org/wiki/Iris_(anatomy)) and [pupil](https://en.wikipedia.org/wiki/Pupil). At the back of the eye sits the blood-vessel rich [retina](https://en.wikipedia.org/wiki/Retina) is where light transformation occurs connected to the optic nerve. The retina is the main transductional element which consists of the detailed cell types show below in the Wikipedia rental diagram:\n",
    "\n",
    "<img src=\"https://upload.wikimedia.org/wikipedia/commons/2/24/Cross_section_of_retinal_layers.png\" alt=\"retina\" width=\"900px\">\n",
    "\n",
    "\n",
    "For optimal processing we use two eyes and utilize 2/3 of our brain processing power on vision tasks [handprint article]\n"
   ]
  },
  {
   "cell_type": "markdown",
   "id": "7a193a08-ceca-4af4-9d15-52d7605711d8",
   "metadata": {},
   "source": [
    "#### <u>Color (Spaces)</u>\n",
    "\n",
    "There are many mechanisms to represent color which collectively we call color space. Colors can be mixed in additive (light) subtractive (pigments which work by taking away spectrum components) or a combination. In the computer, the LED display works as a direct wave generator using RGB CRT channells or in modern technology with organic or mini [LED](https://en.wikipedia.org/wiki/OLED) technology as modulated light generators. Some common ways to express color in the browser include named color, HEX, RGB, and HSV. The RGB color cube is shown below.\n",
    "\n",
    "<img src=\"https://upload.wikimedia.org/wikipedia/commons/8/83/RGB_Cube_Show_lowgamma_cutout_b.png\" alt=\"retna\" width=\"800px\">"
   ]
  },
  {
   "cell_type": "markdown",
   "id": "cdd0d6d4-29a8-4a95-833c-59eddbf5f1b6",
   "metadata": {},
   "source": [
    "Named color is very easy to use for a few colors but hard for others. It is very difficult to build color gradients and to therfor utilize this color type programatically for a visualization."
   ]
  },
  {
   "cell_type": "code",
   "execution_count": 8,
   "id": "c21cd6ef-bbba-4b0e-a172-b77f820d2a5a",
   "metadata": {},
   "outputs": [
    {
     "data": {
      "text/html": [
       "<div id=\"dd1\"></div>\n",
       "\n",
       "<script type=\"module\"> \n",
       "    import * as d3 from \"https://cdn.skypack.dev/d3@7\"; \n",
       "    let div = d3.select('#dd1');\n",
       "    div.style(\"background-color\",\"tomato\");\n",
       "    div.text(\"Named Color\")\n",
       "</script>\n"
      ],
      "text/plain": [
       "<IPython.core.display.HTML object>"
      ]
     },
     "metadata": {},
     "output_type": "display_data"
    }
   ],
   "source": [
    "%%html\n",
    "<div id=\"dd1\"></div>\n",
    "\n",
    "<script type=\"module\"> \n",
    "    import * as d3 from \"https://cdn.skypack.dev/d3@7\"; \n",
    "    let div = d3.select('#dd1');\n",
    "    div.style(\"background-color\",\"tomato\");\n",
    "    div.text(\"Named Color\")\n",
    "</script>"
   ]
  },
  {
   "cell_type": "markdown",
   "id": "04f89a8d-ec05-483b-ad5a-cefd74237b77",
   "metadata": {},
   "source": [
    "Next, we will look at RGB color space where you have three eight-bit values that will control the final color: rgb(X,Y,Z). When all R,G,B values are set to the minimum value of 0 the final color is black. When all three colors are set to 255 the final color is white. Grayscale colors are in these equal value spaces. "
   ]
  },
  {
   "cell_type": "code",
   "execution_count": 9,
   "id": "334fb973-88ab-4a8d-9797-2d896faca3a6",
   "metadata": {},
   "outputs": [
    {
     "data": {
      "text/html": [
       "<div id=\"dd2\"></div>\n",
       "\n",
       "<script type=\"module\"> \n",
       "    import * as d3 from \"https://cdn.skypack.dev/d3@7\"; \n",
       "    let div = d3.select('#dd2');\n",
       "    div.style(\"background-color\",\"rgb(125,125,125)\");\n",
       "    div.text(\"RGB color value\")\n",
       "</script>\n"
      ],
      "text/plain": [
       "<IPython.core.display.HTML object>"
      ]
     },
     "metadata": {},
     "output_type": "display_data"
    }
   ],
   "source": [
    "%%html\n",
    "<div id=\"dd2\"></div>\n",
    "\n",
    "<script type=\"module\"> \n",
    "    import * as d3 from \"https://cdn.skypack.dev/d3@7\"; \n",
    "    let div = d3.select('#dd2');\n",
    "    div.style(\"background-color\",\"rgb(125,125,125)\");\n",
    "    div.text(\"RGB color value\")\n",
    "</script>"
   ]
  },
  {
   "cell_type": "markdown",
   "id": "2bb51169-a2c3-45a0-ad14-9968ce331157",
   "metadata": {},
   "source": [
    "If you take the same RGB values and convert them to hex values: 255 becomes FF. This is an alternate way to specify the rgb values: #FFFFFF becomes white and #000000 becomes black."
   ]
  },
  {
   "cell_type": "code",
   "execution_count": 14,
   "id": "bcafc662-608c-4dad-926b-42f6edf37ade",
   "metadata": {},
   "outputs": [
    {
     "data": {
      "text/html": [
       "<div id=\"dd3\"></div>\n",
       "\n",
       "<script type=\"module\"> \n",
       "    import * as d3 from \"https://cdn.skypack.dev/d3@7\"; \n",
       "    let div = d3.select('#dd3');\n",
       "    div.style(\"background-color\",\"#AA22AA\");\n",
       "    div.text(\"HEX color value\")\n",
       "</script>\n"
      ],
      "text/plain": [
       "<IPython.core.display.HTML object>"
      ]
     },
     "metadata": {},
     "output_type": "display_data"
    }
   ],
   "source": [
    "%%html\n",
    "<div id=\"dd3\"></div>\n",
    "\n",
    "<script type=\"module\"> \n",
    "    import * as d3 from \"https://cdn.skypack.dev/d3@7\"; \n",
    "    let div = d3.select('#dd3');\n",
    "    div.style(\"background-color\",\"#AA22AA\");\n",
    "    div.text(\"HEX color value\")\n",
    "</script>"
   ]
  },
  {
   "attachments": {},
   "cell_type": "markdown",
   "id": "fc606482-b7d9-4c19-b930-7116d6aae815",
   "metadata": {},
   "source": [
    "#### Hue Saturation Luminosity/Value (HSL,HSV)\n",
    "\n",
    "<img src=\"https://upload.wikimedia.org/wikipedia/commons/6/6b/HSL_color_solid_cylinder_saturation_gray.png\" alt=\"retina\" width=\"400px\"> <img src=\"https://upload.wikimedia.org/wikipedia/commons/3/33/HSV_color_solid_cylinder_saturation_gray.png\" alt=\"retina\" width=\"400px\">"
   ]
  },
  {
   "cell_type": "markdown",
   "id": "f23c1eb0-8345-49a0-8d79-7fc848faedf9",
   "metadata": {},
   "source": [
    "Hue saturation luminosity/value are color spaces that involve more human-like perception of color using a circular space structure. Typically, hue values of 0 with start with red and end with 360 degrees (pink) approaching back to the red.  Saturation will involve moving from the white (desaturated) center out to the pure color at the edges of the circular structure.  Value or luminosity then will provide the ability to easily darken that space. So very easily with a single control (such as value) we can programmatically create single color gradients."
   ]
  },
  {
   "cell_type": "code",
   "execution_count": 35,
   "id": "956b15cb-2ddd-48c4-8eb1-97da82b0cfcc",
   "metadata": {},
   "outputs": [
    {
     "data": {
      "text/html": [
       "<div id=\"dd4\"></div>\n",
       "\n",
       "<script type=\"module\"> \n",
       "    import * as d3 from \"https://cdn.skypack.dev/d3@7\"; \n",
       "    let div = d3.select('#dd4');\n",
       "    div.style(\"background-color\",\"hsl(200,50%,50%)\");\n",
       "    div.text(\"HSL color value\")\n",
       "</script>\n"
      ],
      "text/plain": [
       "<IPython.core.display.HTML object>"
      ]
     },
     "metadata": {},
     "output_type": "display_data"
    }
   ],
   "source": [
    "%%html\n",
    "<div id=\"dd4\"></div>\n",
    "\n",
    "<script type=\"module\"> \n",
    "    import * as d3 from \"https://cdn.skypack.dev/d3@7\"; \n",
    "    let div = d3.select('#dd4');\n",
    "    div.style(\"background-color\",\"hsl(200,50%,50%)\");\n",
    "    div.text(\"HSL color value\")\n",
    "</script>"
   ]
  },
  {
   "cell_type": "code",
   "execution_count": 38,
   "id": "5640bf3f-91fa-48c6-be13-97ec011fbd8c",
   "metadata": {},
   "outputs": [
    {
     "data": {
      "text/html": [
       "<div id=\"dd5\"></div>\n",
       "\n",
       "<script type=\"module\"> \n",
       "    import * as d3 from \"https://cdn.skypack.dev/d3@7\"; \n",
       "    let div = d3.select('#dd5');\n",
       "    let red = d3.hsl(\"red\");\n",
       "    div.style(\"background-color\",red);\n",
       "    div.text(\"HSV color value\");\n",
       "</script>\n"
      ],
      "text/plain": [
       "<IPython.core.display.HTML object>"
      ]
     },
     "metadata": {},
     "output_type": "display_data"
    }
   ],
   "source": [
    "%%html\n",
    "<div id=\"dd5\"></div>\n",
    "\n",
    "<script type=\"module\"> \n",
    "    import * as d3 from \"https://cdn.skypack.dev/d3@7\"; \n",
    "    let div = d3.select('#dd5');\n",
    "    let red = d3.hsl(\"red\");\n",
    "    div.style(\"background-color\",red);\n",
    "    div.text(\"HSL color value\");\n",
    "</script>"
   ]
  },
  {
   "cell_type": "markdown",
   "id": "d5de14a6-d285-4e5a-9b8f-ec03f2ae84fa",
   "metadata": {},
   "source": [
    "#### <u>Color Composition / Color Palette Geometry</u>\n",
    "\n",
    "Composition details the arrangement of objects in positional space but can include choice of color. Perceptually we will discuss a few parts of the natural human process. Objects can appear similar under: (a) close proximity in the positional space, (b) shape of object (shared shape such as circle), (c) color of object (shared color such as red or black) (d) pattern that results from lines and other simple shapes (continuation)\n"
   ]
  },
  {
   "cell_type": "markdown",
   "id": "11a0c04c-95bc-4c36-8d15-dd2146a3f770",
   "metadata": {},
   "source": [
    "First we will generate an interpolator from d3 which will nicely move from any-two named colors, try changing the values from 0 to 1 or the named endpoints."
   ]
  },
  {
   "cell_type": "code",
   "execution_count": 45,
   "id": "134f75ee-a27e-4169-8e6c-1e96d1352675",
   "metadata": {},
   "outputs": [
    {
     "data": {
      "text/html": [
       "<span id=\"spn1\"></span>\n",
       "\n",
       "<script type=\"module\"> \n",
       "    import * as d3 from \"https://cdn.skypack.dev/d3@7\"; \n",
       "    let span = d3.select('#spn1');\n",
       "    let pal  = d3.interpolateHsl(\"red\",\"purple\");\n",
       "    span.style(\"background-color\",pal(0.0));\n",
       "    span.style(\"color\",pal(1.0));\n",
       "    span.text(\"Interpolated HSL color value\");\n",
       "</script>\n"
      ],
      "text/plain": [
       "<IPython.core.display.HTML object>"
      ]
     },
     "metadata": {},
     "output_type": "display_data"
    }
   ],
   "source": [
    "%%html\n",
    "<span id=\"spn1\"></span>\n",
    "\n",
    "<script type=\"module\"> \n",
    "    import * as d3 from \"https://cdn.skypack.dev/d3@7\"; \n",
    "    let span = d3.select('#spn1');\n",
    "    let pal  = d3.interpolateHsl(\"red\",\"purple\");\n",
    "    span.style(\"background-color\",pal(0.0));\n",
    "    span.style(\"color\",pal(1.0));\n",
    "    span.text(\"Interpolated HSL color value\");\n",
    "</script>"
   ]
  },
  {
   "cell_type": "markdown",
   "id": "1c2e7c55-4549-4cbd-9930-0410d30b53f3",
   "metadata": {},
   "source": [
    "If the HSL/HSV color space has red on one end and blue on the other are their any relationships that will allow us to build high-contrast? See below where we add 180 to the start value."
   ]
  },
  {
   "cell_type": "code",
   "execution_count": 51,
   "id": "46a4152d-f25f-4493-b7bf-a66fe2b4ef94",
   "metadata": {},
   "outputs": [
    {
     "data": {
      "text/html": [
       "<span id=\"spn2\"></span><span id=\"spn3\"></span>\n",
       "\n",
       "<script type=\"module\"> \n",
       "    import * as d3 from \"https://cdn.skypack.dev/d3@7\"; \n",
       "    let sp1 = d3.select('#spn2');\n",
       "    let sp2 = d3.select('#spn3');\n",
       "    let start = 12;\n",
       "    let p1   = d3.hsl(start,0.5,0.5);\n",
       "    let p2  = d3.hsl(start+180,0.5,0.5);\n",
       "    sp1.style(\"background-color\",p1);\n",
       "    sp1.text(\"HSL color value 1\");\n",
       "    sp2.style(\"background-color\",p2);\n",
       "    sp2.text(\"HSL color value 2\");\n",
       "</script>\n"
      ],
      "text/plain": [
       "<IPython.core.display.HTML object>"
      ]
     },
     "metadata": {},
     "output_type": "display_data"
    }
   ],
   "source": [
    "%%html\n",
    "<span id=\"spn2\"></span><span id=\"spn3\"></span>\n",
    "\n",
    "<script type=\"module\"> \n",
    "    import * as d3 from \"https://cdn.skypack.dev/d3@7\"; \n",
    "    let sp1 = d3.select('#spn2');\n",
    "    let sp2 = d3.select('#spn3');\n",
    "    let start = 12;\n",
    "    let p1   = d3.hsl(start,0.5,0.5);\n",
    "    let p2  = d3.hsl(start+180,0.5,0.5);\n",
    "    sp1.style(\"background-color\",p1);\n",
    "    sp1.text(\"HSL color value 1\");\n",
    "    sp2.style(\"background-color\",p2);\n",
    "    sp2.text(\"HSL color value 2\");\n",
    "</script>"
   ]
  },
  {
   "cell_type": "markdown",
   "id": "376cc28d-cbf0-4b7b-a3af-0fce488bf0d3",
   "metadata": {},
   "source": [
    "What if we want to make a three-catagory palette? Equal spacing gives us:"
   ]
  },
  {
   "cell_type": "code",
   "execution_count": 56,
   "id": "5db65367-d3b5-4a2f-a1f1-d9d257e0478f",
   "metadata": {},
   "outputs": [
    {
     "data": {
      "text/html": [
       "<span id=\"spn4\"></span><span id=\"spn5\"></span><span id=\"spn6\"></span>\n",
       "\n",
       "<script type=\"module\"> \n",
       "    import * as d3 from \"https://cdn.skypack.dev/d3@7\";\n",
       "    let spns = [d3.select('#spn4'),d3.select('#spn5'),d3.select('#spn6')];\n",
       "    let start = 0;\n",
       "    let vs = 360/3;\n",
       "    let ps = [d3.hsl(start+0*vs,1,0.5),d3.hsl(start+1*vs,1,0.5),d3.hsl(start+2*vs,1,0.5)];\n",
       "    for(let i=0; i<spns.length;i++){\n",
       "        spns[i].style(\"background-color\",ps[i]);\n",
       "        spns[i].text(\"HSL color value \"+(i+1).toString()+\" \");\n",
       "    }\n",
       "</script>\n"
      ],
      "text/plain": [
       "<IPython.core.display.HTML object>"
      ]
     },
     "metadata": {},
     "output_type": "display_data"
    }
   ],
   "source": [
    "%%html\n",
    "<span id=\"spn4\"></span><span id=\"spn5\"></span><span id=\"spn6\"></span>\n",
    "\n",
    "<script type=\"module\"> \n",
    "    import * as d3 from \"https://cdn.skypack.dev/d3@7\";\n",
    "    let spns = [d3.select('#spn4'),d3.select('#spn5'),d3.select('#spn6')];\n",
    "    let start = 0;\n",
    "    let vs = 360/3;\n",
    "    let ps = [d3.hsl(start+0*vs,1,0.5),d3.hsl(start+1*vs,1,0.5),d3.hsl(start+2*vs,1,0.5)];\n",
    "    for(let i=0; i<spns.length;i++){\n",
    "        spns[i].style(\"background-color\",ps[i]);\n",
    "        spns[i].text(\"HSL color value \"+(i+1).toString()+\" \");\n",
    "    }\n",
    "</script>"
   ]
  },
  {
   "cell_type": "markdown",
   "id": "3b35ed91-94e3-491c-b47f-0875104db665",
   "metadata": {},
   "source": [
    "Play around with the example above to generate any three colors starting with the color of your chooing (a triangle in the HSL space)"
   ]
  },
  {
   "cell_type": "code",
   "execution_count": 99,
   "id": "550b755d-d970-4fff-bec1-9e00926d699d",
   "metadata": {},
   "outputs": [
    {
     "data": {
      "text/html": [
       "<div id=\"dd6\"></div>\n",
       "\n",
       "<script type=\"module\"> \n",
       "    import * as d3 from \"https://cdn.skypack.dev/d3@7\";\n",
       "    let div = d3.select(\"#dd6\");\n",
       "    let start = 200;\n",
       "    let c = 6,\n",
       "        vs = 360/c;\n",
       "    for(let i=0; i<c; i++){\n",
       "        let spn = div.append(\"div\").attr(\"id\",\"cpn\"+(i+1).toString());\n",
       "        let ps = d3.hsl(start+i*vs,0.5,0.75);\n",
       "        spn.style(\"background-color\",ps);\n",
       "        spn.text(\"color \"+(i+1).toString()+\" \");\n",
       "    }\n",
       "</script>\n"
      ],
      "text/plain": [
       "<IPython.core.display.HTML object>"
      ]
     },
     "metadata": {},
     "output_type": "display_data"
    }
   ],
   "source": [
    "%%html\n",
    "<div id=\"dd6\"></div>\n",
    "\n",
    "<script type=\"module\"> \n",
    "    import * as d3 from \"https://cdn.skypack.dev/d3@7\";\n",
    "    let div = d3.select(\"#dd6\");\n",
    "    let start = 200;\n",
    "    let c = 6,\n",
    "        vs = 360/c;\n",
    "    for(let i=0; i<c; i++){\n",
    "        let spn = div.append(\"div\").attr(\"id\",\"cpn\"+(i+1).toString());\n",
    "        let ps = d3.hsl(start+i*vs,0.5,0.75);\n",
    "        spn.style(\"background-color\",ps);\n",
    "        spn.text(\"color \"+(i+1).toString()+\" \");\n",
    "    }\n",
    "</script>"
   ]
  },
  {
   "cell_type": "markdown",
   "id": "73742f04-e666-4126-8666-8ab8c7b74a57",
   "metadata": {},
   "source": [
    "And of course we can make detailed color gradients by fixing a color and imply modifying the saturation"
   ]
  },
  {
   "cell_type": "code",
   "execution_count": 118,
   "id": "74ca2355-7259-4e33-99ab-87d8769bb079",
   "metadata": {},
   "outputs": [
    {
     "data": {
      "text/html": [
       "<div id=\"dd7\"></div>\n",
       "\n",
       "<script type=\"module\"> \n",
       "    import * as d3 from \"https://cdn.skypack.dev/d3@7\";\n",
       "    let div = d3.select(\"#dd7\");\n",
       "    let start = 200;\n",
       "    let c = 232,\n",
       "        vs = 1.0/c;\n",
       "    for(let i=0; i<c; i++){\n",
       "        let spn = div.append(\"span\").attr(\"id\",\"dpn\"+(i+1).toString());\n",
       "        let ps = d3.hsl(start,vs*i,0.75);\n",
       "        spn.style(\"background-color\",ps);\n",
       "        spn.text(\" c-\"+(i+1).toString()+\" \");\n",
       "    }\n",
       "</script>\n"
      ],
      "text/plain": [
       "<IPython.core.display.HTML object>"
      ]
     },
     "metadata": {},
     "output_type": "display_data"
    }
   ],
   "source": [
    "%%html\n",
    "<div id=\"dd7\"></div>\n",
    "\n",
    "<script type=\"module\"> \n",
    "    import * as d3 from \"https://cdn.skypack.dev/d3@7\";\n",
    "    let div = d3.select(\"#dd7\");\n",
    "    let start = 200;\n",
    "    let c = 232,\n",
    "        vs = 1.0/c;\n",
    "    for(let i=0; i<c; i++){\n",
    "        let spn = div.append(\"span\").attr(\"id\",\"dpn\"+(i+1).toString());\n",
    "        let ps = d3.hsl(start,vs*i,0.75);\n",
    "        spn.style(\"background-color\",ps);\n",
    "        spn.text(\" c-\"+(i+1).toString()+\" \");\n",
    "    }\n",
    "</script>"
   ]
  },
  {
   "cell_type": "code",
   "execution_count": 126,
   "id": "147d20e7-b4f7-4ce2-8f81-8a5cfc23b42c",
   "metadata": {},
   "outputs": [
    {
     "data": {
      "text/html": [
       "<div id=\"dd8\"></div>\n",
       "\n",
       "<script type=\"module\"> \n",
       "    import * as d3 from \"https://cdn.skypack.dev/d3@7\";\n",
       "    let div = d3.select(\"#dd8\");\n",
       "    let start = 30;\n",
       "    let c = 232,\n",
       "        vs = 1.0/c;\n",
       "    for(let i=0; i<c; i++){\n",
       "        let spn = div.append(\"span\").attr(\"id\",\"dpn\"+(i+1).toString());\n",
       "        let ps = d3.hsl(start,1.0,vs*i);\n",
       "        spn.style(\"background-color\",ps);\n",
       "        spn.text(\" c-\"+(i+1).toString()+\" \");\n",
       "    }\n",
       "</script>\n"
      ],
      "text/plain": [
       "<IPython.core.display.HTML object>"
      ]
     },
     "metadata": {},
     "output_type": "display_data"
    }
   ],
   "source": [
    "%%html\n",
    "<div id=\"dd8\"></div>\n",
    "\n",
    "<script type=\"module\"> \n",
    "    import * as d3 from \"https://cdn.skypack.dev/d3@7\";\n",
    "    let div = d3.select(\"#dd8\");\n",
    "    let start = 30;\n",
    "    let c = 232,\n",
    "        vs = 1.0/c;\n",
    "    for(let i=0; i<c; i++){\n",
    "        let spn = div.append(\"span\").attr(\"id\",\"dpn\"+(i+1).toString());\n",
    "        let ps = d3.hsl(start,1.0,vs*i);\n",
    "        spn.style(\"background-color\",ps);\n",
    "        spn.text(\" c-\"+(i+1).toString()+\" \");\n",
    "    }\n",
    "</script>"
   ]
  },
  {
   "cell_type": "code",
   "execution_count": 110,
   "id": "d4b9688e-a91a-4d63-9f04-85d76d5f58ea",
   "metadata": {},
   "outputs": [
    {
     "data": {
      "text/html": [
       "<div id=\"dd10\"></div>\n",
       "\n",
       "<script type=\"module\"> \n",
       "    import * as d3 from \"https://cdn.skypack.dev/d3@7\";\n",
       "    let div = d3.select(\"#dd10\");\n",
       "    let start = 300;\n",
       "    let c = 12,\n",
       "        vs = 1.0/c;\n",
       "    for(let i=0; i<c; i++){\n",
       "        let spn = div.append(\"div\").attr(\"id\",\"dpn\"+(i+1).toString());\n",
       "        let ps = d3.hsl(start*i,vs*(c-i/2),vs*i);\n",
       "        let fs = d3.hsl(start*(c-i),vs*i,vs*(c-i/2));\n",
       "        spn.style(\"background-color\",ps);\n",
       "        spn.style(\"color\",fs);\n",
       "        spn.text(\" c-\"+(i+1).toString()+\" \");\n",
       "    }\n",
       "</script>\n"
      ],
      "text/plain": [
       "<IPython.core.display.HTML object>"
      ]
     },
     "metadata": {},
     "output_type": "display_data"
    }
   ],
   "source": [
    "%%html\n",
    "<div id=\"dd10\"></div>\n",
    "\n",
    "<script type=\"module\"> \n",
    "    import * as d3 from \"https://cdn.skypack.dev/d3@7\";\n",
    "    let div = d3.select(\"#dd10\");\n",
    "    let start = 300;\n",
    "    let c = 12,\n",
    "        vs = 1.0/c;\n",
    "    for(let i=0; i<c; i++){\n",
    "        let spn = div.append(\"div\").attr(\"id\",\"dpn\"+(i+1).toString());\n",
    "        let ps = d3.hsl(start*i,vs*(c-i/2),vs*i);\n",
    "        let fs = d3.hsl(start*(c-i),vs*i,vs*(c-i/2));\n",
    "        spn.style(\"background-color\",ps);\n",
    "        spn.style(\"color\",fs);\n",
    "        spn.text(\" c-\"+(i+1).toString()+\" \");\n",
    "    }\n",
    "</script>"
   ]
  },
  {
   "cell_type": "markdown",
   "id": "7fe26bd4-03fd-4010-954b-20ea571e349b",
   "metadata": {},
   "source": [
    "Lastly we can use d3 color scales on our data [d3 color scheme](https://d3js.org/d3-scale-chromatic) which have diverging, sequential and many of the ideas we presented here as built-in functions."
   ]
  },
  {
   "cell_type": "markdown",
   "id": "8729a6cd-dff7-4216-a7ed-0ec7e5913605",
   "metadata": {},
   "source": [
    "# Exercises\n",
    "\n",
    "#### [1] Starting with a fresh web app template and using the cars.csv file can you now create an interesting 3D plot?\n",
    "#### [2] Can you think of a good set of colors to use on the cars.csv file?\n",
    "#### [3] What about the NHANES data we looked at in section 07 and 08? Healthy data could make use of hospitol colors or if Heart or cardio columns are used maybe heart or red colors? Try designing a color that will work with either the filtered (section 07) or imputed (section 08) NHANES data and make use of what you have learned from this section on color."
   ]
  },
  {
   "cell_type": "code",
   "execution_count": null,
   "id": "cce69acc-86da-48fb-ba4c-3b6e865db3b7",
   "metadata": {},
   "outputs": [],
   "source": []
  }
 ],
 "metadata": {
  "kernelspec": {
   "display_name": "Python 3 (ipykernel)",
   "language": "python",
   "name": "python3"
  },
  "language_info": {
   "codemirror_mode": {
    "name": "ipython",
    "version": 3
   },
   "file_extension": ".py",
   "mimetype": "text/x-python",
   "name": "python",
   "nbconvert_exporter": "python",
   "pygments_lexer": "ipython3",
   "version": "3.12.4"
  }
 },
 "nbformat": 4,
 "nbformat_minor": 5
}
