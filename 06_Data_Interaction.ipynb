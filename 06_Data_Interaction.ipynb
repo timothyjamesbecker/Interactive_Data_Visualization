{
 "cells": [
  {
   "cell_type": "markdown",
   "id": "af93251e-859d-403d-881a-d38b8c0ec56c",
   "metadata": {},
   "source": [
    "# Interactive Data Visualization\n",
    "##### (C) 2023-2025 Timothy James Becker: [revision 1.0](),  [GPLv3 license](https://www.gnu.org/licenses/gpl-3.0.html) "
   ]
  },
  {
   "cell_type": "markdown",
   "id": "ed12497f-bbf1-4d16-adbc-55f536652ef1",
   "metadata": {},
   "source": [
    "#### <u>Data Interactions</u>\n",
    "\n",
    "Any data that can be visualized through positional and color space transformations can also be used for interactions such as those from a mouse or touch pad.  We will outline and demonstrate a few of these common interactions and describe in more detail the JavaScript event object which is used to load files in our previous CSV examples.  These examples will need to be placed in a functional webapp in order to be tested and debugged since the built in jupyterlab (with python kernel) protects against this usage (by blocking events)"
   ]
  },
  {
   "cell_type": "markdown",
   "id": "491f4cb7-e65e-4b89-a1ef-d8f34cbce17e",
   "metadata": {},
   "source": [
    "#### <u>Mouse Events (with d3)</u>\n",
    "If we start at the main user interface (UI) Event page [here](https://developer.mozilla.org/en-US/docs/Web/API/UI_Events) we can see that many common events types are represented such as the left click on a mouse click, pressing a keyboard key down or using a scroll wheel or touch scroll gesture. Each of these types of events can be wrapped in an Event Listener and then Javascript code can be executed conditionally producing visual position or colar changes in response.\n"
   ]
  },
  {
   "cell_type": "markdown",
   "id": "655bab95-355b-48cb-babc-d5e6e195115b",
   "metadata": {},
   "source": [
    "<img src=\"figures/visualization_mouse_position.png\" alt=\"visualization_mouse_position\" width=\"700px\">"
   ]
  },
  {
   "cell_type": "markdown",
   "id": "b1d9e51d-bea1-448e-b6c8-29b5c9c45d3c",
   "metadata": {},
   "source": [
    "The mouse click event can be used to retreve the clientX and clientY position by first triggering an event in d3 by attaching an event  listener to the entire svg rectage area in the example 1 below. This code can be run inside a fresh d3_template_webapp."
   ]
  },
  {
   "cell_type": "raw",
   "id": "4410dfaf-d3cd-4a1d-8336-b228d51be654",
   "metadata": {},
   "source": [
    "/** example 1 **/\n",
    "let width = 800, height = 600;\n",
    "let x_min = -10, x_max = 10, y_min = -1000, y_max = 1000;\n",
    "\n",
    "let x_scale = d3.scaleLinear([x_min,x_max],[0,width]);\n",
    "let y_scale = d3.scaleLinear([y_min,y_max],[height,0]);\n",
    "\n",
    "let svg = d3.select(\"body\").append(\"svg\")\n",
    "    .attr(\"width\", width).attr(\"height\", height);\n",
    "svg.on(\"click\",function(event){\n",
    "    const [x,y] = d3.pointer(event);\n",
    "    console.log(\"data space: x=\"+x_scale.invert(x)+\", y=\"+y_scale.invert(y));\n",
    "    svg.append(\"g\").append(\"circle\")\n",
    "        .attr(\"cx\",function(d){ return x; })\n",
    "        .attr(\"cy\",function(d){ return y; })\n",
    "        .attr(\"r\",5)\n",
    "        .attr(\"fill\",\"rgb(255,0,0)\")\n",
    "});"
   ]
  },
  {
   "cell_type": "markdown",
   "id": "3222fb37-b340-4312-a6c2-d0366c99ec0b",
   "metadata": {},
   "source": [
    "Notice how the svg variable is used to attach the mouse click event called \"click\". Next the d3.pointer(event) takes the event and returns the x and y values in pixel space.  Next we use the console.log to run a inverse transformation by not calling x_scale(x) but x_scale.invert(x) instead. The svg is used as a starting point to add new circle tags. Any node that is currently visiable can also have an event lister attached to it using a selection or just chaining (by attaching more on.() methods)"
   ]
  },
  {
   "cell_type": "markdown",
   "id": "43858604-0cfa-478c-8bf9-eeaf8c718c1d",
   "metadata": {},
   "source": [
    "<img src=\"figures/mouse_event_pos_example.png\" alt=\"mouse_event_pos_example\" width=\"700px\">"
   ]
  },
  {
   "cell_type": "markdown",
   "id": "c04cc9f8-f812-4f6f-8552-fb0b2e5a586c",
   "metadata": {},
   "source": [
    "Here subsequent clicking will make new circle objects. If we want to add new interactions to each of these newly generated data points we can chain other interactions such as \"mouseover\" to enlarge the circle size (by changing the \"r\" value from 5 to 15). Here interactions like \"mouseover\" may have natural counter parts such as \"mouseout\" which can be used to reset the circles to the original size. Taken together these interactions allow users to add new geometric objects to a data visualization or simply query the existing data objects that are already drawn to the pixel space."
   ]
  },
  {
   "cell_type": "raw",
   "id": "d82cab37-2c6a-4f0d-bfb1-ce67dcf8ba2b",
   "metadata": {},
   "source": [
    "/** example 2 **/\n",
    "let width = 800, height = 600;\n",
    "let x_min = -10, x_max = 10, y_min = -1000, y_max = 1000;\n",
    "\n",
    "let x_scale = d3.scaleLinear([x_min,x_max],[0,width]);\n",
    "let y_scale = d3.scaleLinear([y_min,y_max],[height,0]);\n",
    "\n",
    "let svg = d3.select(\"body\").append(\"svg\")\n",
    "    .attr(\"width\", width).attr(\"height\", height);\n",
    "svg.on(\"click\",function(event){\n",
    "    const [x,y] = d3.pointer(event);\n",
    "    console.log(\"data space: x=\"+x_scale.invert(x)+\", y=\"+y_scale.invert(y));\n",
    "    svg.append(\"g\").append(\"circle\")\n",
    "        .attr(\"cx\",function(d){ return x; })\n",
    "        .attr(\"cy\",function(d){ return y; })\n",
    "        .attr(\"r\",5)\n",
    "        .attr(\"fill\",\"rgb(255,0,0)\")\n",
    "        .on(\"mouseover\",function(d,i){ d3.select(this).attr(\"r\",15) })\n",
    "        .on(\"mouseout\",function(d,i){  d3.select(this).attr(\"r\",5)  })\n",
    "});"
   ]
  },
  {
   "cell_type": "markdown",
   "id": "042fcbdf-6dd1-41a0-97a0-82d7acc27b18",
   "metadata": {},
   "source": [
    "More sophisticated interactions with the mouse include the d3.drag which provides for click-dragging geometric objects, as well as the wheel which can be used to zoom in and out of the visual pixel space.  "
   ]
  },
  {
   "cell_type": "markdown",
   "id": "6d2a4e75-b09c-47d9-8195-d282921e16e7",
   "metadata": {},
   "source": [
    "<img src=\"figures/visualization_mouse_drag.png\" alt=\"visualization_mouse_drag\" width=\"700px\">"
   ]
  },
  {
   "cell_type": "markdown",
   "id": "d6e22ac6-9d52-4e23-b42a-b44a32898e53",
   "metadata": {},
   "source": [
    "Starting with a blank template again like in the examples above, you can add this code to webstorm which will give click dragging and zooming via a wheel."
   ]
  },
  {
   "cell_type": "raw",
   "id": "77faa0a2-706e-483a-9210-91e39d660063",
   "metadata": {},
   "source": [
    "/** example 3 **/\n",
    "let width  = 400, height = 200;\n",
    "let radius = 6, step = 8;\n",
    "let theta = Math.PI * (3 - Math.sqrt(5))\n",
    "\n",
    "data = Array.from({length: 100}, (_, i) => {\n",
    "    const radius = step * Math.sqrt(i += 0.5), a = theta * i;\n",
    "    return {\n",
    "        x: width / 2 + radius * Math.cos(a),\n",
    "        y: height / 2 + radius * Math.sin(a)\n",
    "    };\n",
    "})\n",
    "\n",
    "const svg = d3.select(\"body\").append(\"svg\")\n",
    "    .attr(\"viewBox\", [0, 0, width, height]);\n",
    "\n",
    "const g = svg.append(\"g\")\n",
    "    .attr(\"cursor\", \"grab\");\n",
    "\n",
    "g.selectAll(\"circle\")\n",
    "    .data(data)\n",
    "    .enter()\n",
    "    .append(\"circle\")\n",
    "    .attr(\"cx\", ({x}) => x)\n",
    "    .attr(\"cy\", ({y}) => y)\n",
    "    .attr(\"r\", radius)\n",
    "    .attr(\"fill\", (d, i) => d3.interpolateRainbow(i / 360))\n",
    "    .call(d3.drag()\n",
    "        .on(\"start\", dragstarted)\n",
    "        .on(\"drag\", dragged)\n",
    "        .on(\"end\", dragended));\n",
    "\n",
    "svg.call(d3.zoom()\n",
    "    .extent([[0, 0], [width, height]])\n",
    "    .scaleExtent([1, 8])\n",
    "    .on(\"zoom\", zoomed));\n",
    "\n",
    "function dragstarted() {\n",
    "    d3.select(this).raise();\n",
    "    g.attr(\"cursor\", \"grabbing\");\n",
    "}\n",
    "\n",
    "function dragged(event, d) {\n",
    "    d3.select(this).attr(\"cx\", d.x = event.x).attr(\"cy\", d.y = event.y);\n",
    "}\n",
    "\n",
    "function dragended() {\n",
    "    g.attr(\"cursor\", \"grab\");\n",
    "}\n",
    "\n",
    "function zoomed({transform}) {\n",
    "    g.attr(\"transform\", transform);\n",
    "}"
   ]
  },
  {
   "cell_type": "markdown",
   "id": "a168e67c-2c30-4414-97d8-db611cb09e3d",
   "metadata": {},
   "source": [
    "<img src=\"figures/mouse_drag_start.png\" alt=\"mouse_drag_start\" width=\"700px\">"
   ]
  },
  {
   "cell_type": "markdown",
   "id": "8b7041cc-ff78-42f6-9e27-fbb49090b319",
   "metadata": {},
   "source": [
    "And once you use the zoom feature you will go inside the purple are which esentially is changing the data to pixel transformation under the user control:"
   ]
  },
  {
   "cell_type": "markdown",
   "id": "0527f8de-ca7c-41fb-b387-69bbf94af51f",
   "metadata": {},
   "source": [
    "<img src=\"figures/mouse_drag_end.png\" alt=\"mouse_drag_end\" width=\"700px\">"
   ]
  },
  {
   "cell_type": "markdown",
   "id": "3fb20f63-1629-45cf-8416-9317615eecc4",
   "metadata": {},
   "source": [
    "#### <u>Keyboard Events (with d3)</u>\n",
    "Keyboard events work much in the same way as the mouse click and the challenge in creating good interactions is making sure to employ normally unused keyboard keys (or you have to deactovate them!). In the last example of interactions we will attach a keyboard listener to the above example 3 so that now only the circle that get click-draged will be effected by the \"d\" keyboard key. In the example we simply use it to make any circle that has been touched."
   ]
  },
  {
   "cell_type": "raw",
   "id": "69852aa5-f9eb-4266-8838-4b130f3f5bf4",
   "metadata": {},
   "source": [
    "/* example 4 (add this to example 3) */\n",
    "var last = null;\n",
    "\n",
    "//replace the example 3 version with this one\n",
    "function dragended() {\n",
    "    g.attr(\"cursor\", \"grab\");\n",
    "    last = d3.select(this);\n",
    "}\n",
    "\n",
    "d3.select(\"body\").on(\"keydown\", function (d,i) {\n",
    "    if(d.key=='d' && last!=null){\n",
    "        last.attr(\"fill\",\"black\");\n",
    "    }\n",
    "});"
   ]
  },
  {
   "cell_type": "markdown",
   "id": "da5932f5-ebbd-4054-95bf-2c16a519da68",
   "metadata": {},
   "source": [
    "More information and other events types can be found on the d3 events page [here](https://d3js.org/d3-selection/events)"
   ]
  },
  {
   "cell_type": "markdown",
   "id": "4461566a-ed95-4aa1-843c-7204fd698f9c",
   "metadata": {},
   "source": [
    "#### Exercises\n",
    "#### [1] design mouseover/mouseout interactions to example 1 that modify color instead of radius\n",
    "#### [2] design mouseclick interaction to example 1 that adds squares instead of circles\n",
    "#### [3] design mouseover/mouseout interactions (or zoom*) to exercise 2 above that makes the squares larger\n",
    "#### [4*] design mouseover interactions to example 2 to make only one circle (subsequent click changes its position)\n",
    "#### [5*] design keyboard interactions to allow the user control of more coloring y='yellow', b = 'black', etc... "
   ]
  },
  {
   "cell_type": "code",
   "execution_count": null,
   "id": "d2d3b49e-1b0c-49a6-9127-0d74df936e9b",
   "metadata": {},
   "outputs": [],
   "source": []
  }
 ],
 "metadata": {
  "kernelspec": {
   "display_name": "Python 3 (ipykernel)",
   "language": "python",
   "name": "python3"
  },
  "language_info": {
   "codemirror_mode": {
    "name": "ipython",
    "version": 3
   },
   "file_extension": ".py",
   "mimetype": "text/x-python",
   "name": "python",
   "nbconvert_exporter": "python",
   "pygments_lexer": "ipython3",
   "version": "3.12.4"
  }
 },
 "nbformat": 4,
 "nbformat_minor": 5
}
