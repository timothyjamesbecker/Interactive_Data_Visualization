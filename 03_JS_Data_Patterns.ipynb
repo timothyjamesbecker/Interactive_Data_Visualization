{
 "cells": [
  {
   "cell_type": "markdown",
   "id": "6dfaf704-0998-42c3-b321-2c33605c0d8b",
   "metadata": {},
   "source": [
    "# Interactive Data Visualization\n",
    "##### (C) 2023-2025 Timothy James Becker: [revision 1.0](),  [GPLv3 license](https://www.gnu.org/licenses/gpl-3.0.html)"
   ]
  },
  {
   "cell_type": "markdown",
   "id": "35e74ccf-4b01-488c-b81a-723fbb704ec3",
   "metadata": {},
   "source": [
    "## JS Data Patterns Introduction\n",
    "The first part of this notebook will serve as an introduction to the two most useful data structures in the JavaScript programming language: array and object.  Basic traversal of these structures will involve any of the valid looping structures (for, while, recursion) but we will focus on using the for loop (with an example recursion traversal on a non-linear object).  The second part of to notebook will introduce the d3.js library and demonstrate its selection and looping capabilities.  The d3.js functions is this section can provide the essential data processing and data visualization looping mechanisms similar to those in the first part of the notebook which will greatly simplify visualization code, giving a higher level view (which will facilitation design choices and modification of visualization components)."
   ]
  },
  {
   "cell_type": "markdown",
   "id": "448a4065-e008-4a34-ab14-9bdd5287e0f3",
   "metadata": {},
   "source": [
    "#### JavaScript Array Data Structure\n",
    "The JavaScript [Array](https://developer.mozilla.org/en-US/docs/Web/JavaScript/Reference/Global_Objects/Array) data structure is a lot like the python list or the Java ArrayList which operate much like a double-linked list (with an index).  This means the programmer can use them like a list which has a constant time tail-append operation or more like a C language style array which typically contains numbers.  Some newer additions to the JavaScript language allow for typed arrays but we will not make use of them in this material since they would be part of optimization or used where IEEE floating point accuracy [IEE-754-2013](https://standards.ieee.org/ieee/754/6210/) was required in numeric computations. We typically fill JS arrays with the same type of elements since since will simplify our code which is known as a homogenous collection (but JS doesn't require this like a strong typed langugae such as C or java)"
   ]
  },
  {
   "cell_type": "code",
   "execution_count": 2,
   "id": "1b2ab800-93c9-44c3-9c96-a945820a8c80",
   "metadata": {},
   "outputs": [
    {
     "data": {
      "application/javascript": [
       "let xs = [1,2,3,4,5,6,7,8,9,10];\n",
       "alert(xs);\n"
      ],
      "text/plain": [
       "<IPython.core.display.Javascript object>"
      ]
     },
     "metadata": {},
     "output_type": "display_data"
    }
   ],
   "source": [
    "%%javascript\n",
    "let xs = [1,2,3,4,5,6,7,8,9,10];\n",
    "alert(xs);"
   ]
  },
  {
   "cell_type": "code",
   "execution_count": 7,
   "id": "b773cb1b-f78d-4943-b854-aa59c4c1612d",
   "metadata": {},
   "outputs": [
    {
     "data": {
      "application/javascript": [
       "let ys = [];\n",
       "for(let i=0; i<10; i++){\n",
       "    ys.push(i+1);\n",
       "}\n",
       "console.log(ys);\n"
      ],
      "text/plain": [
       "<IPython.core.display.Javascript object>"
      ]
     },
     "metadata": {},
     "output_type": "display_data"
    }
   ],
   "source": [
    "%%javascript\n",
    "let ys = [];\n",
    "for(let i=0; i<10; i++){\n",
    "    ys.push(i+1);\n",
    "}\n",
    "console.log(ys); //normal way with a browser to check results"
   ]
  },
  {
   "cell_type": "markdown",
   "id": "9a8a00cb-6333-49af-bea3-ea3f10a176ad",
   "metadata": {},
   "source": [
    "Iteration on the array can follow two different for loop patterns. We will compute a sum on the array:"
   ]
  },
  {
   "cell_type": "code",
   "execution_count": 8,
   "id": "a77864cf-3da3-48fe-9bb1-f77f57de5f5f",
   "metadata": {},
   "outputs": [
    {
     "data": {
      "application/javascript": [
       "let xs = [1,2,3,4,5,6,7,8,9,10];\n",
       "let a = 0;\n",
       "for(let i=0; i<xs.length; i++){\n",
       "    a = a+xs[i];\n",
       "}\n",
       "alert(a);\n"
      ],
      "text/plain": [
       "<IPython.core.display.Javascript object>"
      ]
     },
     "metadata": {},
     "output_type": "display_data"
    }
   ],
   "source": [
    "%%javascript\n",
    "let xs = [1,2,3,4,5,6,7,8,9,10];\n",
    "let a = 0;\n",
    "for(let i=0; i<xs.length; i++){\n",
    "    a = a+xs[i];\n",
    "}\n",
    "alert(a);"
   ]
  },
  {
   "cell_type": "code",
   "execution_count": 9,
   "id": "8fb1ea7b-e973-42b6-b42b-ec11299b50c6",
   "metadata": {},
   "outputs": [
    {
     "data": {
      "application/javascript": [
       "let xs = [1,2,3,4,5,6,7,8,9,10];\n",
       "let a = 0;\n",
       "for(let x of xs){\n",
       "    a = a+x;\n",
       "}\n",
       "alert(a);\n"
      ],
      "text/plain": [
       "<IPython.core.display.Javascript object>"
      ]
     },
     "metadata": {},
     "output_type": "display_data"
    }
   ],
   "source": [
    "%%javascript\n",
    "let xs = [1,2,3,4,5,6,7,8,9,10];\n",
    "let a = 0;\n",
    "for(let x of xs){\n",
    "    a = a+x;\n",
    "}\n",
    "alert(a);"
   ]
  },
  {
   "cell_type": "markdown",
   "id": "8cd0fb07-bffa-4aee-9593-54f07757fcab",
   "metadata": {},
   "source": [
    "#### Built in Methods\n",
    "We also have some methods (since in JS the array is an object) that have looping as part of their functionality such as [forEach](https://developer.mozilla.org/en-US/docs/Web/JavaScript/Reference/Global_Objects/Array/forEach), [reverse](https://developer.mozilla.org/en-US/docs/Web/JavaScript/Reference/Global_Objects/Array/reverse), [sort](https://developer.mozilla.org/en-US/docs/Web/JavaScript/Reference/Global_Objects/Array/sort), [map](https://developer.mozilla.org/en-US/docs/Web/JavaScript/Reference/Global_Objects/Array/map). Dynamic manipulation of an array can be conducted with [push](https://developer.mozilla.org/en-US/docs/Web/JavaScript/Reference/Global_Objects/Array/push) and [pop](https://developer.mozilla.org/en-US/docs/Web/JavaScript/Reference/Global_Objects/Array/pop)."
   ]
  },
  {
   "cell_type": "code",
   "execution_count": 18,
   "id": "45d59c24-3b1e-4653-ae3f-4098bc735b0d",
   "metadata": {},
   "outputs": [
    {
     "data": {
      "application/javascript": [
       "let xs = [1,2,3,4,5,6,7,8,9,10];\n",
       "let x  = 0;\n",
       "xs.forEach((e,i) => {x = x+xs[i]; });\n",
       "alert(x);\n"
      ],
      "text/plain": [
       "<IPython.core.display.Javascript object>"
      ]
     },
     "metadata": {},
     "output_type": "display_data"
    }
   ],
   "source": [
    "%%javascript\n",
    "let xs = [1,2,3,4,5,6,7,8,9,10];\n",
    "let x  = 0;\n",
    "xs.forEach((e,i) => {x = x+xs[i]; });\n",
    "alert(x);"
   ]
  },
  {
   "cell_type": "code",
   "execution_count": 19,
   "id": "74de9e31-b0e3-4c72-ac6f-23029522ce93",
   "metadata": {},
   "outputs": [
    {
     "data": {
      "application/javascript": [
       "let xs = [1,2,3,4,5,6,7,8,9,10];\n",
       "let x  = 0;\n",
       "xs.forEach((e,i) => {x = x+e; });\n",
       "alert(x);\n"
      ],
      "text/plain": [
       "<IPython.core.display.Javascript object>"
      ]
     },
     "metadata": {},
     "output_type": "display_data"
    }
   ],
   "source": [
    "%%javascript\n",
    "let xs = [1,2,3,4,5,6,7,8,9,10];\n",
    "let x  = 0;\n",
    "xs.forEach((e,i) => {x = x+e; });\n",
    "alert(x);"
   ]
  },
  {
   "cell_type": "markdown",
   "id": "30176510-2db6-45d8-937f-d728e6ab076c",
   "metadata": {},
   "source": [
    "The pop method will remove the last element from the array (tail)"
   ]
  },
  {
   "cell_type": "code",
   "execution_count": 20,
   "id": "3ce839d0-ea63-4511-af77-e0a78f253dfd",
   "metadata": {},
   "outputs": [
    {
     "data": {
      "application/javascript": [
       "let xs = [1,2,3,4,5,6,7,8,9,10];\n",
       "let x = xs.pop();\n",
       "alert(xs);\n"
      ],
      "text/plain": [
       "<IPython.core.display.Javascript object>"
      ]
     },
     "metadata": {},
     "output_type": "display_data"
    }
   ],
   "source": [
    "%%javascript\n",
    "let xs = [1,2,3,4,5,6,7,8,9,10];\n",
    "let x = xs.pop();\n",
    "alert(xs);"
   ]
  },
  {
   "cell_type": "code",
   "execution_count": 21,
   "id": "474df0ad-99b1-48f6-8f71-4b073d105082",
   "metadata": {},
   "outputs": [
    {
     "data": {
      "application/javascript": [
       "let xs = [1,2,3,4,5,6,7,8,9,10];\n",
       "let ys = [];\n",
       "ys.push(xs.pop());\n",
       "alert(ys);\n"
      ],
      "text/plain": [
       "<IPython.core.display.Javascript object>"
      ]
     },
     "metadata": {},
     "output_type": "display_data"
    }
   ],
   "source": [
    "%%javascript\n",
    "let xs = [1,2,3,4,5,6,7,8,9,10];\n",
    "let ys = [];\n",
    "ys.push(xs.pop());\n",
    "alert(ys);"
   ]
  },
  {
   "cell_type": "markdown",
   "id": "d1a7f282-e0fc-4a0c-a47c-a20b9f8af0cf",
   "metadata": {},
   "source": [
    "A few ways to reverse the list naturally follow (using the built in or using a composition of the builtins in a loop):"
   ]
  },
  {
   "cell_type": "code",
   "execution_count": 22,
   "id": "3b6ecdf4-fa40-49d6-8b6e-a36be79ddb93",
   "metadata": {},
   "outputs": [
    {
     "data": {
      "application/javascript": [
       "let xs = [1,2,3,4,5,6,7,8,9,10];\n",
       "alert(xs.reverse());\n"
      ],
      "text/plain": [
       "<IPython.core.display.Javascript object>"
      ]
     },
     "metadata": {},
     "output_type": "display_data"
    }
   ],
   "source": [
    "%%javascript\n",
    "let xs = [1,2,3,4,5,6,7,8,9,10];\n",
    "alert(xs.reverse());"
   ]
  },
  {
   "cell_type": "code",
   "execution_count": 23,
   "id": "0a34716e-3aa4-4af9-af72-4edf800ccdeb",
   "metadata": {},
   "outputs": [
    {
     "data": {
      "application/javascript": [
       "let xs = [1,2,3,4,5,6,7,8,9,10];\n",
       "let ys = [];\n",
       "while(xs.length>0){\n",
       "    ys.push(xs.pop());\n",
       "}\n",
       "alert(ys);\n"
      ],
      "text/plain": [
       "<IPython.core.display.Javascript object>"
      ]
     },
     "metadata": {},
     "output_type": "display_data"
    }
   ],
   "source": [
    "%%javascript\n",
    "let xs = [1,2,3,4,5,6,7,8,9,10];\n",
    "let ys = [];\n",
    "while(xs.length>0){\n",
    "    ys.push(xs.pop());\n",
    "}\n",
    "alert(ys);"
   ]
  },
  {
   "cell_type": "code",
   "execution_count": 25,
   "id": "50549c12-0549-4762-b43b-a1d9a747de10",
   "metadata": {},
   "outputs": [
    {
     "data": {
      "application/javascript": [
       "let xs = [1,2,3,4,5,6,7,8,9,10];\n",
       "let ys = [];\n",
       "xs.forEach((e,i)=>{ ys.push(xs.pop()); })\n",
       "alert(ys);\n"
      ],
      "text/plain": [
       "<IPython.core.display.Javascript object>"
      ]
     },
     "metadata": {},
     "output_type": "display_data"
    }
   ],
   "source": [
    "%%javascript\n",
    "let xs = [1,2,3,4,5,6,7,8,9,10];\n",
    "let ys = [];\n",
    "xs.forEach((e,i)=>{ ys.push(xs.pop()); }) //doesn't work since xs gets modified\n",
    "alert(ys);"
   ]
  },
  {
   "cell_type": "markdown",
   "id": "d5a96ed2-992c-4161-a786-ff12e7b5fbad",
   "metadata": {},
   "source": [
    "#### JavaScript Object Data Structure\n",
    "The JavaScript object data structure is close to a python dictionary (dict) or Java hashmap. The basic premise is that the programmer uses key:value pairs where a unique key becomes associated with a value.  Keys are typically numebrs/strings and the values are less restricted and can be [Number](https://developer.mozilla.org/en-US/docs/Web/JavaScript/Reference/Global_Objects/Number), string, arrays or even more objects. For better or for worse this same data structure is used for [Object Orientated Design](https://developer.mozilla.org/en-US/docs/Learn_web_development/Extensions/Advanced_JavaScript_objects/Object_prototypes) and the data can also have methods."
   ]
  },
  {
   "cell_type": "code",
   "execution_count": 26,
   "id": "f1a84c8e-6cfa-40dc-8137-37985d8f7bdf",
   "metadata": {},
   "outputs": [
    {
     "data": {
      "application/javascript": [
       "let xs = {1:1,2:2,3:3,4:4};\n",
       "alert(xs[1]);\n"
      ],
      "text/plain": [
       "<IPython.core.display.Javascript object>"
      ]
     },
     "metadata": {},
     "output_type": "display_data"
    }
   ],
   "source": [
    "%%javascript\n",
    "let xs = {1:1,2:2,3:3,4:4};\n",
    "alert(xs[1]);"
   ]
  },
  {
   "cell_type": "code",
   "execution_count": 27,
   "id": "3ae6e7e1-b97d-4398-a04b-47f90c537a97",
   "metadata": {},
   "outputs": [
    {
     "data": {
      "application/javascript": [
       "let xs = {\"1\":1,2:2,3:3,4:4};\n",
       "alert(xs[1]);\n"
      ],
      "text/plain": [
       "<IPython.core.display.Javascript object>"
      ]
     },
     "metadata": {},
     "output_type": "display_data"
    }
   ],
   "source": [
    "%%javascript\n",
    "let xs = {\"1\":1,2:2,3:3,4:4};\n",
    "alert(xs[1]);"
   ]
  },
  {
   "cell_type": "code",
   "execution_count": 29,
   "id": "9897f843-2709-40c6-821c-dec631734ef4",
   "metadata": {},
   "outputs": [
    {
     "data": {
      "application/javascript": [
       "let xs = {\"a\":1,\"b\":2,\"c\":3,\"d\":4}; //using strings so we can use dot notation\n",
       "alert(xs.a);\n"
      ],
      "text/plain": [
       "<IPython.core.display.Javascript object>"
      ]
     },
     "metadata": {},
     "output_type": "display_data"
    }
   ],
   "source": [
    "%%javascript\n",
    "let xs = {\"a\":1,\"b\":2,\"c\":3,\"d\":4}; //using strings so we can use dot notation\n",
    "alert(xs.a);"
   ]
  },
  {
   "cell_type": "code",
   "execution_count": 30,
   "id": "6bd11a05-aa41-40f9-b7b8-89b6e4073aca",
   "metadata": {},
   "outputs": [
    {
     "data": {
      "application/javascript": [
       "let xs = {\"a\":[1,2,3],\"b\":[4,5,6],\"c\":[7,8,9]}; //using strings so we can use dot notation\n",
       "alert(xs.a);\n"
      ],
      "text/plain": [
       "<IPython.core.display.Javascript object>"
      ]
     },
     "metadata": {},
     "output_type": "display_data"
    }
   ],
   "source": [
    "%%javascript\n",
    "let xs = {\"a\":[1,2,3],\"b\":[4,5,6],\"c\":[7,8,9]}; //using strings so we can use dot notation\n",
    "alert(xs.a);"
   ]
  },
  {
   "cell_type": "markdown",
   "id": "498583cc-256a-4f2f-8022-d55768e66413",
   "metadata": {},
   "source": [
    "We can also dynamically build an object"
   ]
  },
  {
   "cell_type": "code",
   "execution_count": 32,
   "id": "02962556-ede6-4e7e-80cd-8e54c7e61ff5",
   "metadata": {},
   "outputs": [
    {
     "data": {
      "application/javascript": [
       "let xs = {}; //empty object\n",
       "for(let i=0; i<10; i++){\n",
       "    xs[String.fromCharCode(97+i)] = [i+1,i+2,i+3];\n",
       "}\n",
       "alert(xs.a);\n"
      ],
      "text/plain": [
       "<IPython.core.display.Javascript object>"
      ]
     },
     "metadata": {},
     "output_type": "display_data"
    }
   ],
   "source": [
    "%%javascript\n",
    "let xs = {}; //empty object\n",
    "for(let i=0; i<10; i++){\n",
    "    xs[String.fromCharCode(97+i)] = [i+1,i+2,i+3];\n",
    "}\n",
    "alert(xs.a);"
   ]
  },
  {
   "cell_type": "markdown",
   "id": "e9928d3b-18de-4a2a-a797-c1073599fbe7",
   "metadata": {},
   "source": [
    "Or we can use it like in Java to make a class with methods:"
   ]
  },
  {
   "cell_type": "code",
   "execution_count": 36,
   "id": "b32f352b-919d-4efd-8ecf-6fdbd50bcdf8",
   "metadata": {},
   "outputs": [
    {
     "data": {
      "application/javascript": [
       "const myObject = {\n",
       "  a: [1,2,3],\n",
       "  action() {\n",
       "    alert(this.a);\n",
       "  },\n",
       "};\n",
       "function Obj() { this.a = [1,2,3]; }\n",
       "Object.assign(Obj.prototype, myObject);\n",
       "\n",
       "\n",
       "let obj = new Obj();\n",
       "obj.action();\n"
      ],
      "text/plain": [
       "<IPython.core.display.Javascript object>"
      ]
     },
     "metadata": {},
     "output_type": "display_data"
    }
   ],
   "source": [
    "%%javascript\n",
    "const myObject = {\n",
    "  a: [1,2,3],\n",
    "  action() {\n",
    "    alert(this.a);\n",
    "  },\n",
    "};\n",
    "function Obj() { this.a = [1,2,3]; }\n",
    "Object.assign(Obj.prototype, myObject);\n",
    "\n",
    "\n",
    "let obj = new Obj();\n",
    "obj.action();"
   ]
  },
  {
   "cell_type": "markdown",
   "id": "b4cefa9b-b4bd-40a2-8071-cd4e2225fc52",
   "metadata": {},
   "source": [
    "#### Iterator Patterns with arrays/objects (used as aray of dict like data structure)\n",
    "Here we will see [JSON](https://developer.mozilla.org/en-US/docs/Learn_web_development/Core/Scripting/JSON) is a common way to draw and work with data since we can have an array data structure that then has a dict that maps the names of the columns to values. This is exactly how we will see data later using the d3.js data loading methods."
   ]
  },
  {
   "cell_type": "code",
   "execution_count": 41,
   "id": "7ac6ea04-b9c2-4fce-a3d1-2fcbf3975ae9",
   "metadata": {},
   "outputs": [
    {
     "data": {
      "application/javascript": [
       "let x = 0;\n",
       "let xs = [\n",
       "    {x:1,y:1},\n",
       "    {x:2,x:2},\n",
       "    {x:3,y:3},\n",
       "    {x:4,y:4},\n",
       "    {x:5,y:5}\n",
       "]\n",
       "alert(xs[2].x); //this works but we should used string keys...\n"
      ],
      "text/plain": [
       "<IPython.core.display.Javascript object>"
      ]
     },
     "metadata": {},
     "output_type": "display_data"
    }
   ],
   "source": [
    "%%javascript\n",
    "let x = 0; //will this be used as the key?\n",
    "let xs = [\n",
    "    {x:1,y:1},\n",
    "    {x:2,x:2},\n",
    "    {x:3,y:3},\n",
    "    {x:4,y:4},\n",
    "    {x:5,y:5}\n",
    "]\n",
    "alert(xs[2].x); //this works but we should used string keys..."
   ]
  },
  {
   "cell_type": "code",
   "execution_count": 42,
   "id": "11b18aa7-c111-4d6f-99d1-be753a1d6faa",
   "metadata": {},
   "outputs": [
    {
     "data": {
      "application/javascript": [
       "let x = 0;\n",
       "let xs = [\n",
       "    {\"x\":1,\"y\":1},\n",
       "    {\"x\":2,\"y\":2},\n",
       "    {\"x\":3,\"y\":3},\n",
       "    {\"x\":4,\"y\":4},\n",
       "    {\"x\":5,\"y\":5}\n",
       "]\n",
       "alert(xs[0].x); //this works and is easy to follow\n"
      ],
      "text/plain": [
       "<IPython.core.display.Javascript object>"
      ]
     },
     "metadata": {},
     "output_type": "display_data"
    }
   ],
   "source": [
    "%%javascript\n",
    "let x = 0;\n",
    "let xs = [\n",
    "    {\"x\":1,\"y\":1},\n",
    "    {\"x\":2,\"y\":2},\n",
    "    {\"x\":3,\"y\":3},\n",
    "    {\"x\":4,\"y\":4},\n",
    "    {\"x\":5,\"y\":5}\n",
    "]\n",
    "alert(xs[0].x); //this works and is easy to follow"
   ]
  },
  {
   "cell_type": "markdown",
   "id": "7f8cd99d-d247-41db-82f2-84f3088eb85a",
   "metadata": {},
   "source": [
    "## Using D3 for selection of HTML elements (editing HTML)\n",
    "We have previously seen that HTML is the starting place for building web apps and that JavScript and CSS can be linked and loaded into a browser using the link and script tags.  Now we proceed to make use of the d3.js library (Data Driven Documents) to perform more sophisticated HTML edits through scripting, often with great savings in terms of the number of variables, tokens and lines of JavaScript code. We will start with learning about the selection mechanisms which will become more and more expressive and complex and we proceed.  We will then show how selection is used to map data to geometric objects that can be visualized."
   ]
  },
  {
   "cell_type": "markdown",
   "id": "dff3c1c1-bf08-486b-bb50-b9f05e477c5a",
   "metadata": {},
   "source": [
    "### selection (select by tag,class or id)\n",
    "If you recall the discussion about CSS syntax in section [02_HTML_CSS_JS.ipynb](02_HTML_CSS_JS.ipynb) we can select by tag, a user specified class or tag which will be demonstrated below:"
   ]
  },
  {
   "cell_type": "code",
   "execution_count": 11,
   "id": "1b7e175d-8bb9-475b-86b3-2127aba7b0c3",
   "metadata": {},
   "outputs": [
    {
     "data": {
      "text/html": [
       "<div id=\"dd1\"></div>\n",
       "\n",
       "<script type=\"module\"> \n",
       "    import * as d3 from \"https://cdn.skypack.dev/d3@7\"; \n",
       "    let div = d3.select('#dd1').text(\"Hello\");\n",
       "</script>\n"
      ],
      "text/plain": [
       "<IPython.core.display.HTML object>"
      ]
     },
     "metadata": {},
     "output_type": "display_data"
    }
   ],
   "source": [
    "%%html\n",
    "<div id=\"dd1\"></div>\n",
    "\n",
    "<script type=\"module\"> \n",
    "    import * as d3 from \"https://cdn.skypack.dev/d3@7\"; \n",
    "    let div = d3.select('#dd1').text(\"Hello\");\n",
    "</script>"
   ]
  },
  {
   "cell_type": "code",
   "execution_count": 100,
   "id": "b0f55a03-9a6a-4168-84c2-7f66efe15ded",
   "metadata": {},
   "outputs": [
    {
     "data": {
      "text/html": [
       "<div id=\"dd2\" class=\"cls1\"></div>\n",
       "\n",
       "<script type=\"module\"> \n",
       "    import * as d3 from \"https://cdn.skypack.dev/d3@7\"; \n",
       "    let div = d3.select('.cls1').text(\"Hello\");\n",
       "</script>\n"
      ],
      "text/plain": [
       "<IPython.core.display.HTML object>"
      ]
     },
     "metadata": {},
     "output_type": "display_data"
    }
   ],
   "source": [
    "%%html\n",
    "<div id=\"dd2\" class=\"cls1\"></div>\n",
    "\n",
    "<script type=\"module\"> \n",
    "    import * as d3 from \"https://cdn.skypack.dev/d3@7\"; \n",
    "    let div = d3.select('.cls1').text(\"Hello\");\n",
    "</script>"
   ]
  },
  {
   "cell_type": "code",
   "execution_count": 101,
   "id": "b6fa1e26-e4cd-4c18-9818-d1376d9dc2f0",
   "metadata": {},
   "outputs": [
    {
     "data": {
      "text/html": [
       "<div id=\"dd3\"></div>\n",
       "\n",
       "<script type=\"module\"> \n",
       "    import * as d3 from \"https://cdn.skypack.dev/d3@7\"; \n",
       "    let div = d3.select('#dd3').html(\"<div id='dd4'><b>Hello</b> World!</div>\");\n",
       "</script>\n"
      ],
      "text/plain": [
       "<IPython.core.display.HTML object>"
      ]
     },
     "metadata": {},
     "output_type": "display_data"
    }
   ],
   "source": [
    "%%html\n",
    "<div id=\"dd3\"></div>\n",
    "\n",
    "<script type=\"module\"> \n",
    "    import * as d3 from \"https://cdn.skypack.dev/d3@7\"; \n",
    "    let div = d3.select('#dd3').html(\"<div id='dd4'><b>Hello</b> World!</div>\");\n",
    "</script>"
   ]
  },
  {
   "cell_type": "markdown",
   "id": "dabc732b-d9bb-44bc-9ff2-d7728cf6e080",
   "metadata": {},
   "source": [
    "Now we will write a simple selection on the div in the cell above with id=\"dd3\" and change the text color."
   ]
  },
  {
   "cell_type": "code",
   "execution_count": 105,
   "id": "c3ab72f0-e9e5-4df3-bca7-b63ca461ece4",
   "metadata": {},
   "outputs": [
    {
     "data": {
      "text/html": [
       "<script type=\"module\"> \n",
       "    import * as d3 from \"https://cdn.skypack.dev/d3@7\"; \n",
       "    d3.select('#dd3').style(\"color\",\"green\")\n",
       "</script>\n"
      ],
      "text/plain": [
       "<IPython.core.display.HTML object>"
      ]
     },
     "metadata": {},
     "output_type": "display_data"
    }
   ],
   "source": [
    "%%html\n",
    "<script type=\"module\"> \n",
    "    import * as d3 from \"https://cdn.skypack.dev/d3@7\"; \n",
    "    d3.select('#dd3').style(\"color\",\"green\")\n",
    "</script>"
   ]
  },
  {
   "cell_type": "markdown",
   "id": "59546e6d-11ff-49f3-9c27-d0034bb2607e",
   "metadata": {},
   "source": [
    "And using d3 we can easily make interactions with a mouse happen:"
   ]
  },
  {
   "cell_type": "code",
   "execution_count": 103,
   "id": "6dd850fc-d02a-4b8d-b7e3-02b5a6afd22d",
   "metadata": {},
   "outputs": [
    {
     "data": {
      "text/html": [
       "<script type=\"module\">\n",
       "    import * as d3 from \"https://cdn.skypack.dev/d3@7\";\n",
       "    d3.select('#dd3')\n",
       "        .on('mouseover', ()=> {\n",
       "            d3.select(\"#dd3\").style(\"color\",\"red\");  \n",
       "        }).on('mouseout',  ()=> {\n",
       "            d3.select(\"#dd3\").style(\"color\",\"black\");\n",
       "        });\n",
       "        \n",
       "</script>\n"
      ],
      "text/plain": [
       "<IPython.core.display.HTML object>"
      ]
     },
     "metadata": {},
     "output_type": "display_data"
    }
   ],
   "source": [
    "%%html\n",
    "<script type=\"module\">\n",
    "    import * as d3 from \"https://cdn.skypack.dev/d3@7\";\n",
    "    d3.select('#dd3')\n",
    "        .on('mouseover', ()=> {\n",
    "            d3.select(\"#dd3\").style(\"color\",\"red\");  \n",
    "        }).on('mouseout',  ()=> {\n",
    "            d3.select(\"#dd3\").style(\"color\",\"black\");\n",
    "        });\n",
    "        \n",
    "</script>"
   ]
  },
  {
   "cell_type": "code",
   "execution_count": 106,
   "id": "75a5435f-ba57-4f82-88e1-52843dc9ebce",
   "metadata": {},
   "outputs": [
    {
     "data": {
      "text/html": [
       "<div id=\"dv1\"></div>\n",
       "\n",
       "<script type=\"module\"> \n",
       "    import * as d3 from \"https://cdn.skypack.dev/d3@7\";  \n",
       "\n",
       "    let cs = [2, 4, 6, 8, 10]\n",
       "    let width  = 600,\n",
       "        height = 100,\n",
       "        margin = 20;\n",
       "    \n",
       "    let svg = d3.select(\"#dv1\").append(\"svg\")\n",
       "        .attr(\"width\", width)\n",
       "        .attr(\"height\", height)\n",
       "    \n",
       "    svg.selectAll(\"circle\")\n",
       "        .data(cs)\n",
       "        .enter()\n",
       "        .append(\"circle\")\n",
       "        .attr(\"cx\", (d,i) => width/3 - i*30)\n",
       "        .attr(\"cy\", (d,i) => height/2 - (i*20)/2 + margin)\n",
       "        .attr(\"r\", 10);\n",
       "</script>\n"
      ],
      "text/plain": [
       "<IPython.core.display.HTML object>"
      ]
     },
     "metadata": {},
     "output_type": "display_data"
    }
   ],
   "source": [
    "%%html\n",
    "<div id=\"dv1\"></div>\n",
    "\n",
    "<script type=\"module\"> \n",
    "    import * as d3 from \"https://cdn.skypack.dev/d3@7\";  \n",
    "\n",
    "    let cs = [2, 4, 6, 8, 10]\n",
    "    let width  = 600,\n",
    "        height = 100,\n",
    "        margin = 20;\n",
    "    \n",
    "    let svg = d3.select(\"#dv1\").append(\"svg\")\n",
    "        .attr(\"width\", width)\n",
    "        .attr(\"height\", height)\n",
    "    \n",
    "    svg.selectAll(\"circle\")\n",
    "        .data(cs)\n",
    "        .enter()\n",
    "        .append(\"circle\")\n",
    "        .attr(\"cx\", (d,i) => width/3 - i*30)\n",
    "        .attr(\"cy\", (d,i) => height/2 - (i*20)/2 + margin)\n",
    "        .attr(\"r\", 10);\n",
    "</script>"
   ]
  },
  {
   "cell_type": "markdown",
   "id": "0a689209-557e-467d-af8d-fb439ebfccb7",
   "metadata": {},
   "source": [
    "select by id is show here to attach our d3 JS code to the HTML div id=\"dv1\""
   ]
  },
  {
   "cell_type": "code",
   "execution_count": 107,
   "id": "157a38f0-0982-4880-b571-39356b624bf4",
   "metadata": {},
   "outputs": [
    {
     "data": {
      "text/html": [
       "<div id=\"dv2\" class=\"cls2\"></div>\n",
       "\n",
       "<script type=\"module\"> \n",
       "    import * as d3 from \"https://cdn.skypack.dev/d3@7\";  \n",
       "\n",
       "    let cs = [2, 4, 6, 8, 10]\n",
       "    let width  = 600,\n",
       "        height = 100,\n",
       "        margin = 20;\n",
       "    \n",
       "    let svg = d3.select(\"#dv2\").append(\"svg\")\n",
       "        .attr(\"width\", width)\n",
       "        .attr(\"height\", height)\n",
       "    \n",
       "    svg.selectAll(\"circle\")\n",
       "        .data(cs)\n",
       "        .enter()\n",
       "        .append(\"circle\")\n",
       "        .attr(\"cx\", (d,i) => width/3 - i*30)\n",
       "        .attr(\"cy\", (d,i) => height/2 - (i*20)/2 + margin)\n",
       "        .attr(\"r\", 10);\n",
       "\n",
       "    d3.select(\".cls2\").style(\"background\",\"red\")\n",
       "</script>\n"
      ],
      "text/plain": [
       "<IPython.core.display.HTML object>"
      ]
     },
     "metadata": {},
     "output_type": "display_data"
    }
   ],
   "source": [
    "%%html\n",
    "<div id=\"dv2\" class=\"cls2\"></div>\n",
    "\n",
    "<script type=\"module\"> \n",
    "    import * as d3 from \"https://cdn.skypack.dev/d3@7\";  \n",
    "\n",
    "    let cs = [2, 4, 6, 8, 10]\n",
    "    let width  = 600,\n",
    "        height = 100,\n",
    "        margin = 20;\n",
    "    \n",
    "    let svg = d3.select(\"#dv2\").append(\"svg\")\n",
    "        .attr(\"width\", width)\n",
    "        .attr(\"height\", height)\n",
    "    \n",
    "    svg.selectAll(\"circle\")\n",
    "        .data(cs)\n",
    "        .enter()\n",
    "        .append(\"circle\")\n",
    "        .attr(\"cx\", (d,i) => width/3 - i*30)\n",
    "        .attr(\"cy\", (d,i) => height/2 - (i*20)/2 + margin)\n",
    "        .attr(\"r\", 10);\n",
    "\n",
    "    d3.select(\".cls2\").style(\"background\",\"red\")\n",
    "</script>"
   ]
  },
  {
   "cell_type": "code",
   "execution_count": 119,
   "id": "15d5c52f-677c-40f7-a45d-a2d7aeb8576a",
   "metadata": {},
   "outputs": [
    {
     "data": {
      "text/html": [
       "<div id=\"dv3\" class=\"cls3\"></div>\n",
       "\n",
       "<script type=\"module\"> \n",
       "    import * as d3 from \"https://cdn.skypack.dev/d3@7\";  \n",
       "\n",
       "    let cs = [2, 4, 6, 8, 10]\n",
       "    let width  = 600,\n",
       "        height = 100,\n",
       "        margin = 20;\n",
       "    \n",
       "    let svg = d3.select(\"#dv3\").append(\"svg\")\n",
       "        .attr(\"width\", width)\n",
       "        .attr(\"height\", height)\n",
       "    \n",
       "    svg.selectAll(\"circle\")\n",
       "        .data(cs)\n",
       "        .enter()\n",
       "        .append(\"circle\")\n",
       "        .attr(\"cx\", (d,i) => width/3 - i*30)\n",
       "        .attr(\"cy\", (d,i) => height/2 - (i*20)/2 + margin)\n",
       "        .attr(\"r\", 10)\n",
       "        .attr(\"id\", (d,i) => \"d3_circle_\"+i.toString())\n",
       "    d3.select(\"div.cls3\").style(\"background\",\"blue\");\n",
       "</script>\n"
      ],
      "text/plain": [
       "<IPython.core.display.HTML object>"
      ]
     },
     "metadata": {},
     "output_type": "display_data"
    }
   ],
   "source": [
    "%%html\n",
    "<div id=\"dv3\" class=\"cls3\"></div>\n",
    "\n",
    "<script type=\"module\"> \n",
    "    import * as d3 from \"https://cdn.skypack.dev/d3@7\";  \n",
    "\n",
    "    let cs = [2, 4, 6, 8, 10]\n",
    "    let width  = 600,\n",
    "        height = 100,\n",
    "        margin = 20;\n",
    "    \n",
    "    let svg = d3.select(\"#dv3\").append(\"svg\")\n",
    "        .attr(\"width\", width)\n",
    "        .attr(\"height\", height)\n",
    "    \n",
    "    svg.selectAll(\"circle\")\n",
    "        .data(cs)\n",
    "        .enter()\n",
    "        .append(\"circle\")\n",
    "        .attr(\"cx\", (d,i) => width/3 - i*30)\n",
    "        .attr(\"cy\", (d,i) => height/2 - (i*20)/2 + margin)\n",
    "        .attr(\"r\", 10)\n",
    "        .attr(\"id\", (d,i) => \"d3_circle_\"+i.toString())\n",
    "    d3.select(\"div.cls3\").style(\"background\",\"blue\");\n",
    "</script>"
   ]
  },
  {
   "cell_type": "code",
   "execution_count": 120,
   "id": "c0c4ffff-10a9-4274-8c74-b167b136d555",
   "metadata": {},
   "outputs": [
    {
     "data": {
      "text/html": [
       "<script type=\"module\"> \n",
       "    import * as d3 from \"https://cdn.skypack.dev/d3@7\"; \n",
       "    d3.select(\"#d3_circle_0\").attr(\"fill\",\"rgb(255,0,0)\");\n",
       "    //color the other circles by id selection...\n",
       "</script>\n"
      ],
      "text/plain": [
       "<IPython.core.display.HTML object>"
      ]
     },
     "metadata": {},
     "output_type": "display_data"
    }
   ],
   "source": [
    "%%html\n",
    "<script type=\"module\"> \n",
    "    import * as d3 from \"https://cdn.skypack.dev/d3@7\"; \n",
    "    d3.select(\"#d3_circle_0\").attr(\"fill\",\"rgb(255,0,0)\");\n",
    "    //color the other circles by id selection...\n",
    "</script>"
   ]
  },
  {
   "cell_type": "markdown",
   "id": "9ce0ea15-9933-4e8f-8cda-cacbba78ea2b",
   "metadata": {},
   "source": [
    "We need to be carefull with select by tag since this could change all the divs in a page! So instead we nest the selections to select all of a given tag that also is in a given class. The last thing we will do is to provide some interaction on those same dots shown above."
   ]
  },
  {
   "cell_type": "code",
   "execution_count": null,
   "id": "d2388576-8942-4e26-a6f0-71ac22b6ec1c",
   "metadata": {},
   "outputs": [],
   "source": []
  }
 ],
 "metadata": {
  "kernelspec": {
   "display_name": "Python 3 (ipykernel)",
   "language": "python",
   "name": "python3"
  },
  "language_info": {
   "codemirror_mode": {
    "name": "ipython",
    "version": 3
   },
   "file_extension": ".py",
   "mimetype": "text/x-python",
   "name": "python",
   "nbconvert_exporter": "python",
   "pygments_lexer": "ipython3",
   "version": "3.12.4"
  }
 },
 "nbformat": 4,
 "nbformat_minor": 5
}
