{
 "cells": [
  {
   "cell_type": "markdown",
   "id": "95c48959-102d-4424-9f76-75f66f8a561b",
   "metadata": {},
   "source": [
    "# Interactive Data Visualization\n",
    "##### (C) 2023-2025 Timothy James Becker: [revision 1.0](),  [GPLv3 license](https://www.gnu.org/licenses/gpl-3.0.html)"
   ]
  },
  {
   "cell_type": "code",
   "execution_count": 17,
   "id": "977826ac-8840-4186-bb95-daebb0a649c0",
   "metadata": {
    "jupyter": {
     "source_hidden": true
    },
    "scrolled": true
   },
   "outputs": [
    {
     "data": {
      "text/html": [
       "<div id=\"plot1\"></div>\n",
       "<script type=\"module\"> \n",
       "    import * as d3 from \"https://cdn.skypack.dev/d3@7\";   \n",
       "    d3.csv(\"https://raw.githubusercontent.com/holtzy/D3-graph-gallery/master/DATA/iris.csv\")\n",
       "        .then(function(data) {\n",
       "            var width = 600\n",
       "            var height = 300\n",
       "            var margin = 60 \n",
       "            var xScale = d3.scaleLinear().range([margin , width - margin]).domain(d3.extent(data, (d,i) => d.Sepal_Length))\n",
       "            var yScale = d3.scaleLinear().range([height-margin , margin]).domain(d3.extent(data, (d,i) => d.Petal_Length)) \n",
       "            var color = d3.scaleOrdinal()\n",
       "                .domain([\"setosa\", \"versicolor\", \"virginica\" ])\n",
       "                .range([ \"#F8766D\", \"#00BA38\", \"#619CFF\"])\n",
       "            var svg = d3.select(\"div#plot1\").append(\"svg\")\n",
       "                .attr(\"width\", width)\n",
       "                .attr(\"height\", height)\n",
       " \n",
       "            svg.selectAll(\"circle\")\n",
       "                .data(data)\n",
       "                .join(\"circle\")\n",
       "                .attr(\"cx\", d => xScale(d.Sepal_Length))\n",
       "                .attr(\"cy\", d => yScale(d.Petal_Length))\n",
       "                .attr(\"r\", 5)\n",
       "                .style(\"stroke\", \"darkgrey\" )\n",
       "                .style(\"stroke-width\", 1) \n",
       "                .style(\"fill\", function (d) { return color(d.Species) });\n",
       "            \n",
       "        })\n",
       "        .catch(function(error){\n",
       "            console.log(error)\n",
       "        })\n",
       "    \n",
       "</script>\n",
       "#look at https://github.com/holtzy/D3-graph-gallery/tree/master/DATA\n",
       "#change to https://raw.githubusercontent.com/holtzy/D3-graph-gallery/master/DATA/data.xx\n"
      ],
      "text/plain": [
       "<IPython.core.display.HTML object>"
      ]
     },
     "metadata": {},
     "output_type": "display_data"
    }
   ],
   "source": [
    "%%html\n",
    "<div id=\"plot1\"></div>\n",
    "<script type=\"module\"> \n",
    "    import * as d3 from \"https://cdn.skypack.dev/d3@7\";   \n",
    "    d3.csv(\"https://raw.githubusercontent.com/holtzy/D3-graph-gallery/master/DATA/iris.csv\")\n",
    "        .then(function(data) {\n",
    "            var width = 600\n",
    "            var height = 300\n",
    "            var margin = 60 \n",
    "            var xScale = d3.scaleLinear().range([margin , width - margin]).domain(d3.extent(data, (d,i) => d.Sepal_Length))\n",
    "            var yScale = d3.scaleLinear().range([height-margin , margin]).domain(d3.extent(data, (d,i) => d.Petal_Length)) \n",
    "            var color = d3.scaleOrdinal()\n",
    "                .domain([\"setosa\", \"versicolor\", \"virginica\" ])\n",
    "                .range([ \"#F8766D\", \"#00BA38\", \"#619CFF\"])\n",
    "            var svg = d3.select(\"div#plot1\").append(\"svg\")\n",
    "                .attr(\"width\", width)\n",
    "                .attr(\"height\", height)\n",
    " \n",
    "            svg.selectAll(\"circle\")\n",
    "                .data(data)\n",
    "                .join(\"circle\")\n",
    "                .attr(\"cx\", d => xScale(d.Sepal_Length))\n",
    "                .attr(\"cy\", d => yScale(d.Petal_Length))\n",
    "                .attr(\"r\", 5)\n",
    "                .style(\"stroke\", \"darkgrey\" )\n",
    "                .style(\"stroke-width\", 1) \n",
    "                .style(\"fill\", function (d) { return color(d.Species) });\n",
    "            \n",
    "        })\n",
    "        .catch(function(error){\n",
    "            console.log(error)\n",
    "        })\n",
    "    \n",
    "</script>\n",
    "#look at https://github.com/holtzy/D3-graph-gallery/tree/master/DATA\n",
    "#change to https://raw.githubusercontent.com/holtzy/D3-graph-gallery/master/DATA/data.xx"
   ]
  },
  {
   "cell_type": "markdown",
   "id": "c2236cca-c542-47c4-b473-94f39e7b3bce",
   "metadata": {},
   "source": [
    "## <u>Overview</u>"
   ]
  },
  {
   "cell_type": "markdown",
   "id": "7a99ced0-2242-45a7-a643-5d37f679b8d0",
   "metadata": {},
   "source": [
    "This open educational resource (OER) is intended as the basis for an undergraduate course (14 week) where the students have already been exposed to at least one semester of a high-level programming language such as [Python](https://www.python.org/).  The intended student does not have to be familiar with web programming standards: [HTML]( https://developer.mozilla.org/en-US/docs/Web/HTML), [CSS]( https://developer.mozilla.org/en-US/docs/Web/CSS) and [JavaScript]( https://developer.mozilla.org/en-US/docs/Web/JavaScript) since we review those aspects initially.  We present the material as a series of [jupyter notebooks](https://jupyter.org/) intended to be run by the student using a standard python3 kernel attached to a scientific python distribution such as [Anaconda](https://www.anaconda.com/download/success). These notebooks contain cells which are markup (which is compatible with HTML5) or code (in one of the supported programming languages such as python). When hosted on a platform like google collaborate, they allow the user to view the text, click on [hyperlinks](https://en.wikipedia.org/wiki/Hyperlink) and also run some of the python code examples that illustrate the visualization and machine learning methods.  If using a platform such as [GitHub](https://docs.github.com/en/pages), the rendered jupyter notebooks will not have a running kernel attached and will therefore not execute python code.  The foundational components for practice will be client-side web applications consisting of a folder which HTML, CSS, JS and data files inside (such as [CSV](https://en.wikipedia.org/wiki/Comma-separated_values) and [JSON](https://developer.mozilla.org/en-US/docs/Web/JavaScript/Reference/Global_Objects/JSON) formats).  We include appendix sections that have some details in [setting up a development environment]() and for [hosting a finished visualization on github.io]().\n",
    "\n",
    "We start the course with a visualization and interaction overview which is intended to facilitate exploration and communication of complex data.  This is followed by a primer on web programming which details the [DOM](https://developer.mozilla.org/en-US/docs/Web/API/Document_Object_Model), some background on styling with respect to visual components and finally data-centric programming patterns and exercises that are useful for working with data using JavaScript.  Because we are interested in learning about data in this course, we discuss data cleaning (mining and preprocessing) and machine learning (imputation and clustering) methods using the python programming language (which is more robust and simpler for these tasks).  We spend time to discuss and explore the color and composition elements of perceptual theory which will allow the student to better conceptualize why certain visual methods better comunicate certain types of data to the audience.  This is followed by a section on spatial visualization (maps and Geographic information) and some coverage of clustering and dimension reduction methods.\n",
    "\n",
    "Visualization in this course is the process of taking data (in a simple table or more complex structure) and constructing a mapping of one or more columns (or fields or variables) to a visualization scale such as a position axis, color gradient, geometric parameter (like size or circle radius).\n",
    "\n",
    "\n",
    "\n",
    "<img src=\"figures/visualization_overview_figure.png\" alt=\"visualization_overview\" width=\"700px\">"
   ]
  },
  {
   "cell_type": "markdown",
   "id": "35642d30-08ec-47a3-bdd1-37f6c5e78571",
   "metadata": {},
   "source": [
    "## <u>Sections</u>\n",
    "\n",
    "[Interaction and visualization overview](01_Overview.ipynb) - This overview page (with appendix for setup of IDE...)\n",
    "\n",
    "[HTML/CSS/JS introduction](2_HTML_CSS_JS.ipynb) - cross device, standard interactions\n",
    "\n",
    "[JS patterns for working with data]() - looping over data, checking results and debugging (JSON)\n",
    "\n",
    "[2D visualization with d3]() - using JS and d3 to manipulate HTML/CSS dynamically\n",
    "\n",
    "[Finding, loading, transforming data sources with d3]() - using d3-fetch and filtering\n",
    "\n",
    "[Data sources for practice]() - we study public (open-source) data for practice\n",
    "\n",
    "[Exploring data and evaluating quality]() - example data sets are explored and QCed\n",
    "\n",
    "[Data cleaning and normalization]() - how to remove problem data and make comparisons\n",
    "\n",
    "[Imputation and data missingess]() - why does data have missing values and can they be estimated\n",
    "\n",
    "[Color and Composition]() - what human perceptual elements have to do with visualization\n",
    "\n",
    "[Space and time part 1, with leaflet]() - spatial visualization is more common than you think\n",
    "\n",
    "[Space and time part 2, with leaflet]() - spatial information joined to visuals\n",
    "\n",
    "[Clustering Linear]() - principal component analysis (linear combinations of the variables)\n",
    "\n",
    "[Clustering non-Linear]() - tSNE and UMAP for non-linear search for structure\n",
    "\n",
    "[Dimension Reduction]() - reducing dimensionality using UMAP and limits"
   ]
  },
  {
   "cell_type": "markdown",
   "id": "bd73a5ba-d0b8-4511-a8a9-408360edb291",
   "metadata": {},
   "source": [
    "## <u>Appendix</u>"
   ]
  },
  {
   "cell_type": "markdown",
   "id": "0fdfe5e2-5ae0-4e9d-b629-254b50454572",
   "metadata": {},
   "source": [
    "### <u>A1: Parts of a web app (runs in a browser)</u>\n",
    "\n",
    "Web appications are interactive programs that make use of [HTML](https://developer.mozilla.org/en-US/docs/Web/HTML), [CSS](https://developer.mozilla.org/en-US/docs/Web/CSS) and [Javascript](https://developer.mozilla.org/en-US/docs/Web/JavaScript).  The [HTML specification](https://developer.mozilla.org/en-US/docs/Web/HTML/Reference/Elements) allows for either inline CSS and Javascript via the [link](https://developer.mozilla.org/en-US/docs/Web/HTML/Reference/Elements/link) and [script](https://developer.mozilla.org/en-US/docs/Web/HTML/Reference/Elements/script) tags or the use of eternal files that are colocated in a web folder.  This web folder constitutes what is commonly known as a client-side web application and can be served using a static webserver server such a [NGINX](). This webserver serves the same content to browses that use the [GET](https://developer.mozilla.org/en-US/docs/Web/HTTP/Reference/Methods/GET) method reuest for its main index.html page and as this page is processes via the browser render machinery the CSS and JS files that are linked are retrieved and exicuted in order from top to bottom.\n",
    "\n",
    "<img src=\"figures/web_folder.png\" alt=\"web_folder\" width=\"700px\">"
   ]
  },
  {
   "cell_type": "markdown",
   "id": "b18f8832-93b6-4f06-b118-fc4a41eec05e",
   "metadata": {},
   "source": [
    "### <u>A2: Setting up a development environment</u>\n",
    "\n",
    "To set up a proper development environment for data visualization the user will need a static webserver at minimum along with a web broswer for testing and editor for updating scripts and content.  The most straightforward system forr this for students that has minimal cost is currently [Intellijel Webstorm](https://www.jetbrains.com/webstorm/) since it includes a dedicated and simple to configure webserver that will enable the data loading using the asynchronous [fetch API](https://developer.mozilla.org/en-US/docs/Web/API/Fetch_API/Using_Fetch) we will use in this OER resource.\n",
    "\n",
    "#### <u>Download and Run the Installer</u>\n",
    "Navigate to the previously linked webstorm download page shown belwo and select on of the valid OS: Windows, Linu or Mac. For Mac system be sure to pick (Apple Silicon) if you have a newish system that has a M1,M2,M3,M4, etc processor (not an Intel i5, i7, etc which you pick Intel). Likewise some newer Windows system also have ARM based chips and will need to use the Windows ARM download exe. Linux also has support for ARM or Intel.  Once you run the installer and it finishes without errors you can start to configure your first project. The images below are shown from MacOS using the Apple Silicon dmg download option.\n",
    "\n",
    "<img src=\"figures/webstorm_download.png\" alt=\"webstorm_download\" width=\"600px\">\n",
    "\n",
    "<img src=\"figures/webstorm_installer.png\" alt=\"webstorm_installer\" width=\"700px\">\n"
   ]
  },
  {
   "cell_type": "markdown",
   "id": "4f5e2a62-45a5-4973-803c-c6e298733aeb",
   "metadata": {},
   "source": [
    "#### <u>First Project Setup</u>\n",
    "Using the menu, select new project and then a wizard will open shown below. Here you will enter the path in which the web folder (also a project folder in webstorm) will be created for you.\n",
    "\n",
    "<img src=\"figures/webstorm_new_project.png\" alt=\"webstorm_new_project\" width=\"400px\">\n",
    "\n",
    "Next you will create the main index.html file that will get loaded into the web browser when the page is served by the webserver as whon below:\n",
    "\n",
    "<img src=\"figures/webstorm_new_index.png\" alt=\"webstorm_new_index\" width=\"700px\">\n",
    "\n",
    "index.html is a standard starting page and has been around and in use for a long time but is not required if the webserver configuration is changed to point to a different page as the default.\n",
    "\n",
    "Finally we will enter some HTML markup and then run the result by clicking on the browser launcher in the right corner of the index.html editor as shown below:\n",
    "\n",
    "<img src=\"figures/webstorm_edit_index.png\" alt=\"webstorm_edit_index\" width=\"700px\">"
   ]
  },
  {
   "cell_type": "markdown",
   "id": "5b05eeb2-46d4-44ed-abaa-1c5fb5bae0d8",
   "metadata": {},
   "source": [
    "This should launch the firefox browser using a new webserver (with a non-standard port 63342 in this example)\n",
    "\n",
    "<img src=\"figures/webstorm_browser_index.png\" alt=\"webstorm_browser_index\" width=\"500px\">\n",
    "\n",
    "Next we will check to make such the Javascript is also working by adding the HTML script tag as shown here:\n",
    "\n",
    "<img src=\"figures/webstorm_script_src.png\" alt=\"webstorm_script_src\" width=\"700px\">\n",
    "\n",
    "And then add the following code to the main.js file:"
   ]
  },
  {
   "cell_type": "code",
   "execution_count": null,
   "id": "44324941-0a11-4b7e-9941-9deea8ca0bc7",
   "metadata": {},
   "outputs": [],
   "source": [
    "document.getElementsByTagName(\"body\")[0].innerText = \"Hello World!\";"
   ]
  },
  {
   "cell_type": "markdown",
   "id": "bdbc1f2f-a370-4e9c-9dd7-ed8f63a137d5",
   "metadata": {},
   "source": [
    "<img src=\"figures/webstorm_main_js.png\" alt=\"webstorm_main_js\" width=\"700px\">\n",
    "\n",
    "Which renders the same as our orginal HTML test page:\n",
    "\n",
    "<img src=\"figures/webstorm_browser_index.png\" alt=\"webstorm_browser_index\" width=\"500px\">\n",
    "\n",
    "These tests indicate eveything is setup correctly and that the system will work well with the OER materials."
   ]
  },
  {
   "cell_type": "markdown",
   "id": "91e08a8d-bce6-44ee-84b4-50dc8c85f69a",
   "metadata": {},
   "source": [
    "### <u> A3: Hosting a finished visualization on github.io</u>"
   ]
  },
  {
   "cell_type": "markdown",
   "id": "f6cf5948-8a34-4bca-b5e7-ee9322f8bc32",
   "metadata": {},
   "source": [
    "A new free account is required to make use of github.io hosting of client-side web applications. So navigating to github.com and using the sinup button will intiate that process:\n",
    "\n",
    "<img src=\"figures/github_main.png\" alt=\"webstorm_browser_index\" width=\"700px\">"
   ]
  },
  {
   "cell_type": "markdown",
   "id": "df424db2-67ae-4c9c-a6c8-9d497b9f8817",
   "metadata": {},
   "source": [
    "If users have google for email service you can also use that to authenticate:\n",
    "\n",
    "<img src=\"figures/github_signup.png\" alt=\"webstorm_browser_index\" width=\"700px\">"
   ]
  },
  {
   "cell_type": "markdown",
   "id": "03afe8fc-cf37-4a48-a18e-de3b9e098e92",
   "metadata": {},
   "source": [
    "Then you typically have to answer some security challenge in the email that gtihub.com will send you.  More detailed instructions are avaible of the main site [here](https://docs.github.com/en/get-started/start-your-journey/creating-an-account-on-github)."
   ]
  },
  {
   "cell_type": "markdown",
   "id": "2b313d71-ec63-47c3-8cc8-366556bdd313",
   "metadata": {},
   "source": [
    "It is then recomended to become comfortable with creating a new repository, cloning it and then commiting and pushing new materrial to it. Webstorm has github integration and can perform those operations once configured. Altenatively [github desktop](https://desktop.github.com/download/) can be useful.  The following tutorial can be helful for these tasks: [new project guide](https://docs.github.com/en/get-started/start-your-journey/hello-world)."
   ]
  },
  {
   "cell_type": "code",
   "execution_count": null,
   "id": "d08981a2-9bd8-4b6b-8f82-6036b130de0a",
   "metadata": {},
   "outputs": [],
   "source": []
  }
 ],
 "metadata": {
  "kernelspec": {
   "display_name": "Python 3 (ipykernel)",
   "language": "python",
   "name": "python3"
  },
  "language_info": {
   "codemirror_mode": {
    "name": "ipython",
    "version": 3
   },
   "file_extension": ".py",
   "mimetype": "text/x-python",
   "name": "python",
   "nbconvert_exporter": "python",
   "pygments_lexer": "ipython3",
   "version": "3.12.4"
  }
 },
 "nbformat": 4,
 "nbformat_minor": 5
}
